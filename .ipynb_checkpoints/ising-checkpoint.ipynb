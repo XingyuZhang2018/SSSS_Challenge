{
 "cells": [
  {
   "cell_type": "code",
   "execution_count": 38,
   "metadata": {},
   "outputs": [],
   "source": [
    "#import tensorflow as tf\n",
    "import numpy as np\n",
    "import random"
   ]
  },
  {
   "cell_type": "code",
   "execution_count": 39,
   "metadata": {},
   "outputs": [],
   "source": [
    "def E_total(X):\n",
    "    L = X.shape[0]\n",
    "    X = np.insert(X, 0, values=X[:,L-1], axis=1)\n",
    "    X = np.insert(X, L+1, values=X[:,1], axis=1)\n",
    "    X = np.insert(X, 0, values=X[L-1,:], axis=0)\n",
    "    X = np.insert(X, L+1, values=X[1,:], axis=0)\n",
    "    E = 0\n",
    "    for i in range(1,L+1):\n",
    "        for j in range(1,L+1):\n",
    "            E = X[i,j]*(X[i-1,j]+X[i+1,j]+X[i,j-1]+X[i,j+1])+E\n",
    "    E = -E/2\n",
    "    return E"
   ]
  },
  {
   "cell_type": "code",
   "execution_count": 119,
   "metadata": {},
   "outputs": [],
   "source": [
    "X = np.ones((10,10))\n",
    "L = X.shape[0]\n",
    "T = 5"
   ]
  },
  {
   "cell_type": "code",
   "execution_count": 120,
   "metadata": {},
   "outputs": [],
   "source": [
    "hot = 0\n",
    "while hot < 1000:\n",
    "    for i in range(L):\n",
    "        for j in range(L):\n",
    "            X1 = X\n",
    "            E1 = E_total(X1)\n",
    "            X2 = X\n",
    "            X2[i, j] = -X2[i, j]\n",
    "            E2 = E_total(X2)\n",
    "            limit = min(np.exp((E1 - E2)/T),1)\n",
    "            #print(limit)\n",
    "            rand = random.random()\n",
    "            if rand  < limit:\n",
    "                X = X2\n",
    "            else:\n",
    "                X = X1\n",
    "    hot = hot + 1"
   ]
  },
  {
   "cell_type": "code",
   "execution_count": 121,
   "metadata": {},
   "outputs": [
    {
     "name": "stdout",
     "output_type": "stream",
     "text": [
      "[[ 1.  1.  1.  1.  1.  1.  1.  1.  1.  1.]\n",
      " [ 1.  1.  1.  1.  1.  1.  1.  1.  1.  1.]\n",
      " [ 1.  1.  1.  1.  1.  1.  1.  1.  1.  1.]\n",
      " [ 1.  1.  1.  1.  1.  1.  1.  1.  1.  1.]\n",
      " [ 1.  1.  1.  1.  1.  1.  1.  1.  1.  1.]\n",
      " [ 1.  1.  1.  1.  1.  1.  1.  1.  1.  1.]\n",
      " [ 1.  1.  1.  1.  1.  1.  1.  1.  1.  1.]\n",
      " [ 1.  1.  1.  1.  1.  1.  1.  1.  1.  1.]\n",
      " [ 1.  1.  1.  1.  1.  1.  1.  1.  1.  1.]\n",
      " [ 1.  1.  1.  1.  1.  1.  1.  1.  1.  1.]]\n"
     ]
    }
   ],
   "source": [
    "print(X)"
   ]
  },
  {
   "cell_type": "code",
   "execution_count": 35,
   "metadata": {},
   "outputs": [
    {
     "name": "stdout",
     "output_type": "stream",
     "text": [
      "[[99 90 91 92 93 94 95 96 97 98 99 90]\n",
      " [ 9  0  1  2  3  4  5  6  7  8  9  0]\n",
      " [19 10 11 12 13 14 15 16 17 18 19 10]\n",
      " [29 20 21 22 23 24 25 26 27 28 29 20]\n",
      " [39 30 31 32 33 34 35 36 37 38 39 30]\n",
      " [49 40 41 42 43 44 45 46 47 48 49 40]\n",
      " [59 50 51 52 53 54 55 56 57 58 59 50]\n",
      " [69 60 61 62 63 64 65 66 67 68 69 60]\n",
      " [79 70 71 72 73 74 75 76 77 78 79 70]\n",
      " [89 80 81 82 83 84 85 86 87 88 89 80]\n",
      " [99 90 91 92 93 94 95 96 97 98 99 90]\n",
      " [ 9  0  1  2  3  4  5  6  7  8  9  0]]\n"
     ]
    }
   ],
   "source": [
    "X = np.arange(100).reshape((10, 10))\n",
    "L = X.shape[0]\n",
    "X = np.insert(X, 0, values=X[:,L-1], axis=1)\n",
    "X = np.insert(X, L+1, values=X[:,1], axis=1)\n",
    "X = np.insert(X, 0, values=X[L-1,:], axis=0)\n",
    "X = np.insert(X, L+1, values=X[1,:], axis=0)\n",
    "print(X)"
   ]
  },
  {
   "cell_type": "raw",
   "metadata": {},
   "source": [
    "Conf = tf.Variable(X, dtype=tf.float32, name='Configurations')\n",
    "init = tf.global_variables_initializer()\n",
    "with tf.Session() as sess:\n",
    "    sess.run(init)\n",
    "    print(\"Conf:\", sess.run(Conf[1,1]))"
   ]
  },
  {
   "cell_type": "code",
   "execution_count": 2,
   "metadata": {},
   "outputs": [
    {
     "name": "stdout",
     "output_type": "stream",
     "text": [
      "0.1 1.0\n",
      "0.2 1.0\n",
      "0.3 1.0\n",
      "0.4 1.0\n",
      "0.5 1.0\n",
      "0.6 1.0\n",
      "0.7 1.0\n",
      "0.8 1.0\n",
      "0.9 1.0\n",
      "1.0 0.996666666667\n",
      "1.1 0.998333333333\n",
      "1.2 0.998333333333\n",
      "1.3 0.998333333333\n",
      "1.4 0.983333333333\n",
      "1.5 0.983333333333\n",
      "1.6 0.976666666667\n",
      "1.7 0.975\n",
      "1.8 0.958333333333\n",
      "1.9 0.953333333333\n",
      "2.0 0.94\n",
      "2.1 0.875\n",
      "2.2 0.836666666667\n",
      "2.3 0.868333333333\n",
      "2.4 0.663333333333\n",
      "2.5 0.318333333333\n",
      "2.6 0.683333333333\n",
      "2.7 0.343333333333\n",
      "2.8 0.538333333333\n",
      "2.9 0.208333333333\n",
      "3.0 0.121666666667\n",
      "3.1 0.141666666667\n",
      "3.2 0.248333333333\n",
      "3.3 0.158333333333\n",
      "3.4 0.211666666667\n",
      "3.5 0.148333333333\n",
      "3.6 0.125\n",
      "3.7 0.191666666667\n",
      "3.8 0.0933333333333\n",
      "3.9 0.185\n",
      "4.0 0.14\n",
      "4.1 0.171666666667\n",
      "4.2 0.173333333333\n",
      "4.3 0.193333333333\n",
      "4.4 0.173333333333\n",
      "4.5 0.116666666667\n",
      "4.6 0.168333333333\n",
      "4.7 0.153333333333\n",
      "4.8 0.178333333333\n",
      "4.9 0.121666666667\n"
     ]
    }
   ],
   "source": [
    "import tensorflow as tf\n",
    "import numpy as np\n",
    "import random\n",
    "\n",
    "\n",
    "def init_spin_array(rows, cols):\n",
    "    return np.random.choice((-1, 1), size=(rows, cols))\n",
    "\n",
    "\n",
    "def find_neighbors(spin_array, lattice, x, y):\n",
    "    left   = (x, y - 1)\n",
    "    right  = (x, (y + 1) % lattice)\n",
    "    top    = (x - 1, y)\n",
    "    bottom = ((x + 1) % lattice, y)\n",
    "\n",
    "    return [spin_array[left[0], left[1]],\n",
    "            spin_array[right[0], right[1]],\n",
    "            spin_array[top[0], top[1]],\n",
    "            spin_array[bottom[0], bottom[1]]]\n",
    "\n",
    "\n",
    "def energy(spin_array, lattice, x ,y):\n",
    "    return 2 * spin_array[x, y] * sum(find_neighbors(spin_array, lattice, x, y))\n",
    "\n",
    "def main():\n",
    "    RELAX_SWEEPS = 50\n",
    "    lattice = eval(input(\"Enter lattice size: \"))\n",
    "    sweeps = eval(input(\"Enter the number of Monte Carlo Sweeps: \"))\n",
    "    init = tf.global_variables_initializer()\n",
    "    for temperature in np.arange(0.1, 5.0, 0.1):\n",
    "        spin_array = init_spin_array(lattice, lattice)\n",
    "        # the Monte Carlo follows below\n",
    "        mag = np.zeros(sweeps + RELAX_SWEEPS)\n",
    "        for sweep in range(sweeps + RELAX_SWEEPS):\n",
    "            for i in range(lattice):\n",
    "                for j in range(lattice):\n",
    "                    e = energy(spin_array, lattice, i, j)\n",
    "                    if e <= 0:\n",
    "                        spin_array[i, j] *= -1\n",
    "                    elif np.exp((-1.0 * e)/temperature) > random.random():\n",
    "                        spin_array[i, j] *= -1\n",
    "            mag[sweep] = abs(sum(sum(spin_array))) / (lattice ** 2)\n",
    "        print(temperature, sum(mag[RELAX_SWEEPS:]) / sweeps)\n",
    "\n",
    "main()      "
   ]
  },
  {
   "cell_type": "code",
   "execution_count": null,
   "metadata": {},
   "outputs": [],
   "source": []
  }
 ],
 "metadata": {
  "kernelspec": {
   "display_name": "Python 3",
   "language": "python",
   "name": "python3"
  },
  "language_info": {
   "codemirror_mode": {
    "name": "ipython",
    "version": 3
   },
   "file_extension": ".py",
   "mimetype": "text/x-python",
   "name": "python",
   "nbconvert_exporter": "python",
   "pygments_lexer": "ipython3",
   "version": "3.6.6"
  }
 },
 "nbformat": 4,
 "nbformat_minor": 2
}
