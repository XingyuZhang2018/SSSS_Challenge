{
 "cells": [
  {
   "cell_type": "code",
   "execution_count": 1,
   "metadata": {},
   "outputs": [],
   "source": [
    "import numpy as np\n",
    "\n",
    "five12 = [[] for i in range(12)]\n",
    "for i in range(12):\n",
    "    for j in range(5*i,5*i+5):\n",
    "        five12[i].append(j)\n",
    "        \n",
    "five_link = [[[] for i in range(12)]  for j in range(2)]\n",
    "five_link[0][0] = [5,1,2,3,4]\n",
    "five_link[0][1] = [0,5,6,7,2]\n",
    "five_link[0][2] = [0,1,7,8,3]\n",
    "five_link[0][3] = [0,2,8,9,4]\n",
    "five_link[0][4] = [0,3,9,10,5]\n",
    "five_link[0][5] = [0,4,10,6,1]\n",
    "five_link[0][6] = [7,1,5,10,11]\n",
    "five_link[0][7] = [11,8,2,1,6]\n",
    "five_link[0][8] = [3,2,7,11,9]\n",
    "five_link[0][9] = [4,3,8,11,10]\n",
    "five_link[0][10] = [5,4,9,11,6]\n",
    "five_link[0][11] = [6,7,8,9,10]\n",
    "\n",
    "five_link[1][0] = [0,0,0,0,0]\n",
    "five_link[1][1] = [1,4,1,3,1]\n",
    "five_link[1][2] = [2,4,2,1,1]\n",
    "five_link[1][3] = [3,4,0,1,1]\n",
    "five_link[1][4] = [4,4,0,1,1]\n",
    "five_link[1][5] = [0,4,0,2,1]\n",
    "five_link[1][6] = [4,2,3,4,0]\n",
    "five_link[1][7] = [1,2,2,3,0]\n",
    "five_link[1][8] = [2,3,1,2,2]\n",
    "five_link[1][9] = [2,3,4,3,2]\n",
    "five_link[1][10] = [2,3,4,4,3]\n",
    "five_link[1][11] = [4,0,3,3,3]\n",
    "\n",
    "neighbors = [[] for i in range(60)]\n",
    "link = []\n",
    "for i in range(12):\n",
    "    for j in range(5):\n",
    "        link.append([five12[i][j],five12[five_link[0][i][j]][five_link[1][i][j]]])\n",
    "\n",
    "link2 = [[] for i in range(12)]\n",
    "for i in range(12):\n",
    "    for j in range(5*i,5*i+4):\n",
    "        link2[i].append([j,j+1])\n",
    "    link2[i].append([5*i+4,5*i])           \n",
    "\n",
    "for k in range(60):\n",
    "    Link = []\n",
    "    for i in range(60):\n",
    "        if k in link[i]:\n",
    "            Link.append(link[i])\n",
    "\n",
    "    for i in range(12):\n",
    "        for j in range(5):\n",
    "            if k in link2[i][j]:\n",
    "                Link.append(link2[i][j])\n",
    "                Link.append(link2[i][j][::-1])\n",
    "    for i in Link:\n",
    "        if i[0] == k:\n",
    "            neighbors[k].append(i[1])"
   ]
  },
  {
   "cell_type": "code",
   "execution_count": 2,
   "metadata": {},
   "outputs": [],
   "source": [
    "import random\n",
    "import matplotlib.pyplot as plt\n",
    "import xlwt\n",
    "import time\n",
    "\n",
    "def init_spin_array():\n",
    "    return np.ones(60)\n",
    "\n",
    "\n",
    "def find_neighbors(array, i):\n",
    "    return [array[neighbors[i][0]],\n",
    "            array[neighbors[i][1]],\n",
    "            array[neighbors[i][2]]]\n",
    "\n",
    "def energy(array, i):\n",
    "    return -2 * array[i] * np.sum(find_neighbors(array, i))\n",
    "\n",
    "def Total_energy(array):\n",
    "    E = 0\n",
    "    for i in range(60):\n",
    "        E +=  array[i] * np.sum(find_neighbors(array, i))\n",
    "    return E/2\n",
    "\n",
    "def IsingMC(beta,spin_array):\n",
    "    # the Monte Carlo follows below\n",
    "    #mag = np.zeros(sweeps)\n",
    "    ene = np.zeros(sweeps)\n",
    "    for sweep in range(RELAX_SWEEPS):\n",
    "        for i in range(60):\n",
    "            e = energy(spin_array, i)\n",
    "            if e <= 0:\n",
    "                spin_array[i] *= -1\n",
    "            elif np.exp((-1.0 * e) * beta) > random.random():\n",
    "                spin_array[i] *= -1\n",
    "    for sweep in range(sweeps):\n",
    "        for i in range(60):\n",
    "            e = energy(spin_array, i)\n",
    "            if e <= 0:\n",
    "                spin_array[i] *= -1\n",
    "            elif np.exp((-1.0 * e) * beta) > random.random():\n",
    "                spin_array[i] *= -1\n",
    "       # mag[sweep] = abs(sum(spin_array)) / 60\n",
    "        ene[sweep] = Total_energy(spin_array) \n",
    "           \n",
    "    #ma = sum(mag) / sweeps\n",
    "    en = np.sum(ene) / sweeps\n",
    "    print(beta, en)\n",
    "    x.append(beta)\n",
    " #   y1.append(ma)\n",
    "    y2.append(en)\n",
    "    return spin_array\n",
    "    \n"
   ]
  },
  {
   "cell_type": "code",
   "execution_count": 3,
   "metadata": {},
   "outputs": [
    {
     "name": "stdout",
     "output_type": "stream",
     "text": [
      "1.16076303667e-23\n"
     ]
    }
   ],
   "source": [
    "def allspin(s):\n",
    "    e = np.zeros(60)\n",
    "    for i in range(0,60,1):\n",
    "        e[i] = int(s%2)\n",
    "        if e[i] == 0:\n",
    "            e[i] = int(-1)\n",
    "        s=s//2\n",
    "    return e\n",
    "\n",
    "sum = 0\n",
    "for i in range(2**12):\n",
    "    sum += np.exp(-Total_energy(allspin(i)))\n",
    "print(sum)"
   ]
  },
  {
   "cell_type": "code",
   "execution_count": 14,
   "metadata": {},
   "outputs": [
    {
     "name": "stdout",
     "output_type": "stream",
     "text": [
      "1.0 -59.6238\n",
      "0.99 -59.3888\n",
      "0.98 -59.2964\n",
      "0.97 -59.0918\n",
      "0.96 -58.9484\n",
      "0.95 -58.7682\n",
      "0.94 -58.5818\n",
      "0.93 -58.368\n",
      "0.92 -58.2378\n",
      "0.91 -57.9152\n",
      "0.9 -57.7044\n",
      "0.89 -57.6074\n",
      "0.88 -57.3404\n",
      "0.87 -57.0896\n",
      "0.86 -56.8274\n",
      "0.85 -56.6214\n",
      "0.84 -56.2522\n",
      "0.83 -55.8684\n",
      "0.82 -55.6738\n",
      "0.81 -55.3298\n",
      "0.8 -55.0748\n",
      "0.79 -54.7224\n",
      "0.78 -54.4208\n",
      "0.77 -54.0938\n",
      "0.76 -53.6736\n",
      "0.75 -53.4442\n",
      "0.74 -52.9624\n",
      "0.73 -52.6936\n",
      "0.72 -52.1602\n",
      "0.71 -51.7268\n",
      "0.7 -51.4344\n",
      "0.69 -51.0056\n",
      "0.68 -50.446\n",
      "0.67 -50.1666\n",
      "0.66 -49.5608\n",
      "0.65 -49.3358\n",
      "0.64 -48.8788\n",
      "0.63 -48.1096\n",
      "0.62 -47.8648\n",
      "0.61 -47.1976\n",
      "0.6 -46.6996\n",
      "0.59 -46.226\n",
      "0.58 -45.555\n",
      "0.57 -45.0514\n",
      "0.56 -44.3368\n",
      "0.55 -43.9172\n",
      "0.54 -43.3152\n",
      "0.53 -42.5626\n",
      "0.52 -42.241\n",
      "0.51 -41.5198\n",
      "0.5 -40.6948\n",
      "0.49 -40.0158\n",
      "0.48 -39.282\n",
      "0.47 -38.555\n",
      "0.46 -37.9886\n",
      "0.45 -37.3154\n",
      "0.44 -36.6622\n",
      "0.43 -35.9466\n",
      "0.42 -35.1858\n",
      "0.41 -34.5568\n",
      "0.4 -33.8148\n",
      "0.39 -33.1354\n",
      "0.38 -32.47\n",
      "0.37 -31.473\n",
      "0.36 -30.7876\n",
      "0.35 -29.9686\n",
      "0.34 -29.0834\n",
      "0.33 -28.494\n",
      "0.32 -27.6028\n",
      "0.31 -26.8776\n",
      "0.3 -26.092\n",
      "0.29 -25.085\n",
      "0.28 -24.3268\n",
      "0.27 -23.5498\n",
      "0.26 -22.7572\n",
      "0.25 -21.7272\n",
      "0.24 -21.1828\n",
      "0.23 -20.1086\n",
      "0.22 -19.5254\n",
      "0.21 -18.4642\n",
      "0.2 -17.716\n",
      "0.19 -16.584\n",
      "0.18 -15.9502\n",
      "0.17 -15.1062\n",
      "0.16 -14.1014\n",
      "0.15 -13.2678\n",
      "0.14 -12.1702\n",
      "0.13 -11.4258\n",
      "0.12 -10.7496\n",
      "0.11 -9.986\n",
      "0.1 -8.549\n",
      "0.09 -8.1908\n",
      "0.08 -7.0054\n",
      "0.07 -6.248\n",
      "0.06 -5.349\n",
      "0.05 -4.5778\n",
      "0.04 -3.5892\n",
      "0.03 -2.512\n",
      "0.02 -1.5758\n"
     ]
    },
    {
     "data": {
      "image/png": "[encoded data removed]",
      "text/plain": [
       "<Figure size 432x288 with 1 Axes>"
      ]
     },
     "metadata": {},
     "output_type": "display_data"
    },
    {
     "name": "stdout",
     "output_type": "stream",
     "text": [
      "1298.1369941234589\n"
     ]
    }
   ],
   "source": [
    "RELAX_SWEEPS = 10000\n",
    "sweeps = 10000\n",
    "betaB = 0.01\n",
    "betaE = 1\n",
    "interval = 0.01 \n",
    "x =[]\n",
    "#y1 =[]\n",
    "y2 = []\n",
    "timex=time.time()\n",
    "spin_array = init_spin_array()\n",
    "for beta in np.arange(betaE, betaB,-interval):\n",
    "    spin_array = IsingMC(beta,spin_array)\n",
    "#plt.figure(1)\n",
    "#plt.plot(x,y1)\n",
    "plt.figure(2)\n",
    "plt.plot(x,y2)\n",
    "plt.show()\n",
    "print (time.time()-timex)"
   ]
  },
  {
   "cell_type": "code",
   "execution_count": 15,
   "metadata": {},
   "outputs": [
    {
     "data": {
      "text/plain": [
       "1.3118664472266119"
      ]
     },
     "execution_count": 15,
     "metadata": {},
     "output_type": "execute_result"
    }
   ],
   "source": [
    "import math\n",
    "-np.sum(y2)*interval/60+math.log(2)"
   ]
  },
  {
   "cell_type": "code",
   "execution_count": 134,
   "metadata": {},
   "outputs": [],
   "source": [
    "Emin = -66\n",
    "spin_array = init_spin_array()\n",
    "spin_array_min = []\n",
    "for beta in np.arange(1,2,0.1):\n",
    "    for sweep in range(10000):\n",
    "        for i in range(60):\n",
    "            e = energy(spin_array, i)\n",
    "            if e <= 0:\n",
    "                spin_array[i] *= -1\n",
    "            elif np.exp((-1.0 * e) * beta) > random.random():\n",
    "                spin_array[i] *= -1      \n",
    "        Enew = Total_energy(spin_array) \n",
    "        if Enew <= Emin:\n",
    "            #print(spin_array)\n",
    "            Emin = Enew\n",
    "            spin_array_min = np.append(spin_array_min,spin_array,axis = 0)"
   ]
  },
  {
   "cell_type": "code",
   "execution_count": 135,
   "metadata": {},
   "outputs": [
    {
     "data": {
      "text/plain": [
       "2134500"
      ]
     },
     "execution_count": 135,
     "metadata": {},
     "output_type": "execute_result"
    }
   ],
   "source": [
    "len(spin_array_min)"
   ]
  },
  {
   "cell_type": "code",
   "execution_count": 136,
   "metadata": {},
   "outputs": [
    {
     "data": {
      "text/plain": [
       "array([[ 1., -1.,  1., ...,  1., -1.,  1.],\n",
       "       [ 1., -1.,  1., ...,  1.,  1., -1.],\n",
       "       [-1.,  1.,  1., ...,  1., -1., -1.],\n",
       "       ..., \n",
       "       [ 1., -1.,  1., ..., -1.,  1., -1.],\n",
       "       [ 1., -1.,  1., ..., -1.,  1., -1.],\n",
       "       [ 1., -1.,  1., ..., -1.,  1., -1.]])"
      ]
     },
     "execution_count": 136,
     "metadata": {},
     "output_type": "execute_result"
    }
   ],
   "source": [
    "spin_array_min.reshape(-1,60)"
   ]
  },
  {
   "cell_type": "code",
   "execution_count": 153,
   "metadata": {},
   "outputs": [],
   "source": [
    "def unique(a):\n",
    "    order = np.lexsort(a.T)\n",
    "    a = a[order]\n",
    "    diff = np.diff(a, axis=0)\n",
    "    ui = np.ones(len(a), 'bool')\n",
    "    ui[1:] = (diff != 0).any(axis=1) \n",
    "    return a[ui]"
   ]
  },
  {
   "cell_type": "code",
   "execution_count": 137,
   "metadata": {},
   "outputs": [],
   "source": [
    "def fast_unique(arr):      \n",
    "    arr = np.sort(arr, axis=1)           \n",
    "    tmp =  arr[np.lexsort(arr.T),:]\n",
    "    tmp = tmp[np.append([True],np.any(np.diff(tmp,axis=0),1))]\n",
    "    return tmp[np.lexsort((tmp[:, 1], tmp[:, 0]), axis=0)]"
   ]
  },
  {
   "cell_type": "code",
   "execution_count": 156,
   "metadata": {},
   "outputs": [
    {
     "data": {
      "text/plain": [
       "(10710, 60)"
      ]
     },
     "execution_count": 156,
     "metadata": {},
     "output_type": "execute_result"
    }
   ],
   "source": [
    "unique(spin_array_min.reshape(-1,60)).shape"
   ]
  },
  {
   "cell_type": "code",
   "execution_count": 169,
   "metadata": {},
   "outputs": [
    {
     "data": {
      "text/plain": [
       "(1, 60)"
      ]
     },
     "execution_count": 169,
     "metadata": {},
     "output_type": "execute_result"
    }
   ],
   "source": [
    "fast_unique(spin_array_min.reshape(-1,60)).shape"
   ]
  },
  {
   "cell_type": "code",
   "execution_count": 157,
   "metadata": {},
   "outputs": [],
   "source": [
    "a = np.array([[1,1,1,2],[1,2,3,4],[2,1,3,4],[2,2,2,1]])"
   ]
  },
  {
   "cell_type": "code",
   "execution_count": 159,
   "metadata": {},
   "outputs": [
    {
     "data": {
      "text/plain": [
       "array([ 1., -1.,  1.,  1., -1.,  1., -1.,  1.,  1., -1., -1.,  1., -1.,\n",
       "        1.,  1., -1., -1.,  1., -1.,  1.,  1., -1.,  1., -1., -1., -1.,\n",
       "        1.,  1., -1.,  1.,  1., -1.,  1., -1.,  1.,  1., -1.,  1., -1.,\n",
       "       -1., -1., -1.,  1., -1.,  1., -1.,  1., -1.,  1.,  1., -1.,  1.,\n",
       "       -1., -1.,  1., -1., -1.,  1., -1.,  1.])"
      ]
     },
     "execution_count": 159,
     "metadata": {},
     "output_type": "execute_result"
    }
   ],
   "source": [
    "spin_array_min.reshape(-1,60)[0]"
   ]
  },
  {
   "cell_type": "code",
   "execution_count": 181,
   "metadata": {},
   "outputs": [],
   "source": [
    "a = np.array([1,2,3,4])"
   ]
  },
  {
   "cell_type": "code",
   "execution_count": 187,
   "metadata": {},
   "outputs": [
    {
     "ename": "TypeError",
     "evalue": "append() missing 1 required positional argument: 'values'",
     "output_type": "error",
     "traceback": [
      "\u001b[1;31m---------------------------------------------------------------------------\u001b[0m",
      "\u001b[1;31mTypeError\u001b[0m                                 Traceback (most recent call last)",
      "\u001b[1;32m<ipython-input-187-763c210d0953>\u001b[0m in \u001b[0;36m<module>\u001b[1;34m()\u001b[0m\n\u001b[0;32m      1\u001b[0m \u001b[1;32mfor\u001b[0m \u001b[0mi\u001b[0m \u001b[1;32min\u001b[0m \u001b[0mrange\u001b[0m\u001b[1;33m(\u001b[0m\u001b[1;36m4\u001b[0m\u001b[1;33m)\u001b[0m\u001b[1;33m:\u001b[0m\u001b[1;33m\u001b[0m\u001b[0m\n\u001b[1;32m----> 2\u001b[1;33m     \u001b[0mprint\u001b[0m\u001b[1;33m(\u001b[0m\u001b[0mnp\u001b[0m\u001b[1;33m.\u001b[0m\u001b[0mappend\u001b[0m\u001b[1;33m(\u001b[0m\u001b[1;33m(\u001b[0m\u001b[0mnp\u001b[0m\u001b[1;33m.\u001b[0m\u001b[0mappend\u001b[0m\u001b[1;33m(\u001b[0m\u001b[0ma\u001b[0m\u001b[1;33m[\u001b[0m\u001b[1;36m0\u001b[0m\u001b[1;33m:\u001b[0m\u001b[1;36m1\u001b[0m\u001b[1;33m]\u001b[0m\u001b[1;33m,\u001b[0m\u001b[0ma\u001b[0m\u001b[1;33m[\u001b[0m\u001b[1;36m1\u001b[0m\u001b[1;33m:\u001b[0m\u001b[1;36m2\u001b[0m\u001b[1;33m]\u001b[0m\u001b[1;33m)\u001b[0m\u001b[1;33m,\u001b[0m\u001b[0ma\u001b[0m\u001b[1;33m[\u001b[0m\u001b[1;36m2\u001b[0m\u001b[1;33m:\u001b[0m\u001b[1;36m4\u001b[0m\u001b[1;33m]\u001b[0m\u001b[1;33m)\u001b[0m\u001b[1;33m)\u001b[0m\u001b[1;33m)\u001b[0m\u001b[1;33m\u001b[0m\u001b[0m\n\u001b[0m",
      "\u001b[1;31mTypeError\u001b[0m: append() missing 1 required positional argument: 'values'"
     ]
    }
   ],
   "source": [
    "for i in range(4):\n",
    "    print(np.append((np.append(a[0:1],a[1:2]),a[2:4])))"
   ]
  },
  {
   "cell_type": "code",
   "execution_count": 176,
   "metadata": {},
   "outputs": [],
   "source": [
    "a = unique(spin_array_min.reshape(-1,60))[0]"
   ]
  },
  {
   "cell_type": "code",
   "execution_count": 180,
   "metadata": {},
   "outputs": [
    {
     "name": "stdout",
     "output_type": "stream",
     "text": [
      "[ 1.  1. -1.  1. -1. -1.  1.  1. -1.  1.  1. -1.  1. -1.  1. -1. -1.  1.\n",
      " -1.  1.  1. -1.  1.  1. -1. -1.  1. -1.  1. -1.  1. -1. -1.  1. -1.  1.\n",
      "  1. -1.  1. -1. -1.  1. -1. -1.  1. -1.  1. -1.  1.  1.  1. -1. -1.  1.\n",
      " -1.  1. -1.  1. -1.  1.]\n",
      "[ 1. -1.  1. -1. -1.  1.  1. -1.  1.  1. -1.  1. -1.  1. -1. -1.  1. -1.\n",
      "  1.  1. -1.  1.  1. -1. -1.  1. -1.  1. -1.  1. -1. -1.  1. -1.  1.  1.\n",
      " -1.  1. -1. -1.  1. -1. -1.  1. -1.  1. -1.  1.  1.  1. -1. -1.  1. -1.\n",
      "  1. -1.  1. -1. -1.  1.]\n",
      "[-1.  1. -1. -1.  1.  1. -1.  1.  1. -1.  1. -1.  1. -1. -1.  1. -1.  1.\n",
      "  1. -1.  1.  1. -1. -1.  1. -1.  1. -1.  1. -1. -1.  1. -1.  1.  1. -1.\n",
      "  1. -1. -1.  1. -1. -1.  1. -1.  1. -1.  1.  1.  1. -1. -1.  1. -1.  1.\n",
      " -1.  1. -1. -1. -1.]\n",
      "[ 1. -1. -1.  1.  1. -1.  1.  1. -1.  1. -1.  1. -1. -1.  1. -1.  1.  1.\n",
      " -1.  1.  1. -1. -1.  1. -1.  1. -1.  1. -1. -1.  1. -1.  1.  1. -1.  1.\n",
      " -1. -1.  1. -1. -1.  1. -1.  1. -1.  1.  1.  1. -1. -1.  1. -1.  1. -1.\n",
      "  1. -1. -1.  1.]\n",
      "[-1. -1.  1.  1. -1.  1.  1. -1.  1. -1.  1. -1. -1.  1. -1.  1.  1. -1.\n",
      "  1.  1. -1. -1.  1. -1.  1. -1.  1. -1. -1.  1. -1.  1.  1. -1.  1. -1.\n",
      " -1.  1. -1. -1.  1. -1.  1. -1.  1.  1.  1. -1. -1.  1. -1.  1. -1.  1.\n",
      " -1. -1. -1.]\n",
      "[-1.  1.  1. -1.  1.  1. -1.  1. -1.  1. -1. -1.  1. -1.  1.  1. -1.  1.\n",
      "  1. -1. -1.  1. -1.  1. -1.  1. -1. -1.  1. -1.  1.  1. -1.  1. -1. -1.\n",
      "  1. -1. -1.  1. -1.  1. -1.  1.  1.  1. -1. -1.  1. -1.  1. -1.  1. -1.\n",
      " -1. -1.]\n",
      "[ 1.  1. -1.  1.  1. -1.  1. -1.  1. -1. -1.  1. -1.  1.  1. -1.  1.  1.\n",
      " -1. -1.  1. -1.  1. -1.  1. -1. -1.  1. -1.  1.  1. -1.  1. -1. -1.  1.\n",
      " -1. -1.  1. -1.  1. -1.  1.  1.  1. -1. -1.  1. -1.  1. -1.  1. -1. -1.\n",
      "  1.]\n",
      "[ 1. -1.  1.  1. -1.  1. -1.  1. -1. -1.  1. -1.  1.  1. -1.  1.  1. -1.\n",
      " -1.  1. -1.  1. -1.  1. -1. -1.  1. -1.  1.  1. -1.  1. -1. -1.  1. -1.\n",
      " -1.  1. -1.  1. -1.  1.  1.  1. -1. -1.  1. -1.  1. -1.  1. -1. -1.  1.]\n",
      "[-1.  1.  1. -1.  1. -1.  1. -1. -1.  1. -1.  1.  1. -1.  1.  1. -1. -1.\n",
      "  1. -1.  1. -1.  1. -1. -1.  1. -1.  1.  1. -1.  1. -1. -1.  1. -1. -1.\n",
      "  1. -1.  1. -1.  1.  1.  1. -1. -1.  1. -1.  1. -1.  1. -1. -1. -1.]\n",
      "[ 1.  1. -1.  1. -1.  1. -1. -1.  1. -1.  1.  1. -1.  1.  1. -1. -1.  1.\n",
      " -1.  1. -1.  1. -1. -1.  1. -1.  1.  1. -1.  1. -1. -1.  1. -1. -1.  1.\n",
      " -1.  1. -1.  1.  1.  1. -1. -1.  1. -1.  1. -1.  1. -1. -1.  1.]\n",
      "[ 1. -1.  1. -1.  1. -1. -1.  1. -1.  1.  1. -1.  1.  1. -1. -1.  1. -1.\n",
      "  1. -1.  1. -1. -1.  1. -1.  1.  1. -1.  1. -1. -1.  1. -1. -1.  1. -1.\n",
      "  1. -1.  1.  1.  1. -1. -1.  1. -1.  1. -1.  1. -1. -1.  1.]\n",
      "[-1.  1. -1.  1. -1. -1.  1. -1.  1.  1. -1.  1.  1. -1. -1.  1. -1.  1.\n",
      " -1.  1. -1. -1.  1. -1.  1.  1. -1.  1. -1. -1.  1. -1. -1.  1. -1.  1.\n",
      " -1.  1.  1.  1. -1. -1.  1. -1.  1. -1.  1. -1. -1. -1.]\n",
      "[ 1. -1.  1. -1. -1.  1. -1.  1.  1. -1.  1.  1. -1. -1.  1. -1.  1. -1.\n",
      "  1. -1. -1.  1. -1.  1.  1. -1.  1. -1. -1.  1. -1. -1.  1. -1.  1. -1.\n",
      "  1.  1.  1. -1. -1.  1. -1.  1. -1.  1. -1. -1.  1.]\n",
      "[-1.  1. -1. -1.  1. -1.  1.  1. -1.  1.  1. -1. -1.  1. -1.  1. -1.  1.\n",
      " -1. -1.  1. -1.  1.  1. -1.  1. -1. -1.  1. -1. -1.  1. -1.  1. -1.  1.\n",
      "  1.  1. -1. -1.  1. -1.  1. -1.  1. -1. -1. -1.]\n",
      "[ 1. -1. -1.  1. -1.  1.  1. -1.  1.  1. -1. -1.  1. -1.  1. -1.  1. -1.\n",
      " -1.  1. -1.  1.  1. -1.  1. -1. -1.  1. -1. -1.  1. -1.  1. -1.  1.  1.\n",
      "  1. -1. -1.  1. -1.  1. -1.  1. -1. -1.  1.]\n",
      "[-1. -1.  1. -1.  1.  1. -1.  1.  1. -1. -1.  1. -1.  1. -1.  1. -1. -1.\n",
      "  1. -1.  1.  1. -1.  1. -1. -1.  1. -1. -1.  1. -1.  1. -1.  1.  1.  1.\n",
      " -1. -1.  1. -1.  1. -1.  1. -1. -1. -1.]\n",
      "[-1.  1. -1.  1.  1. -1.  1.  1. -1. -1.  1. -1.  1. -1.  1. -1. -1.  1.\n",
      " -1.  1.  1. -1.  1. -1. -1.  1. -1. -1.  1. -1.  1. -1.  1.  1.  1. -1.\n",
      " -1.  1. -1.  1. -1.  1. -1. -1. -1.]\n",
      "[ 1. -1.  1.  1. -1.  1.  1. -1. -1.  1. -1.  1. -1.  1. -1. -1.  1. -1.\n",
      "  1.  1. -1.  1. -1. -1.  1. -1. -1.  1. -1.  1. -1.  1.  1.  1. -1. -1.\n",
      "  1. -1.  1. -1.  1. -1. -1.  1.]\n",
      "[-1.  1.  1. -1.  1.  1. -1. -1.  1. -1.  1. -1.  1. -1. -1.  1. -1.  1.\n",
      "  1. -1.  1. -1. -1.  1. -1. -1.  1. -1.  1. -1.  1.  1.  1. -1. -1.  1.\n",
      " -1.  1. -1.  1. -1. -1. -1.]\n",
      "[ 1.  1. -1.  1.  1. -1. -1.  1. -1.  1. -1.  1. -1. -1.  1. -1.  1.  1.\n",
      " -1.  1. -1. -1.  1. -1. -1.  1. -1.  1. -1.  1.  1.  1. -1. -1.  1. -1.\n",
      "  1. -1.  1. -1. -1.  1.]\n",
      "[ 1. -1.  1.  1. -1. -1.  1. -1.  1. -1.  1. -1. -1.  1. -1.  1.  1. -1.\n",
      "  1. -1. -1.  1. -1. -1.  1. -1.  1. -1.  1.  1.  1. -1. -1.  1. -1.  1.\n",
      " -1.  1. -1. -1.  1.]\n",
      "[-1.  1.  1. -1. -1.  1. -1.  1. -1.  1. -1. -1.  1. -1.  1.  1. -1.  1.\n",
      " -1. -1.  1. -1. -1.  1. -1.  1. -1.  1.  1.  1. -1. -1.  1. -1.  1. -1.\n",
      "  1. -1. -1. -1.]\n",
      "[ 1.  1. -1. -1.  1. -1.  1. -1.  1. -1. -1.  1. -1.  1.  1. -1.  1. -1.\n",
      " -1.  1. -1. -1.  1. -1.  1. -1.  1.  1.  1. -1. -1.  1. -1.  1. -1.  1.\n",
      " -1. -1.  1.]\n",
      "[ 1. -1. -1.  1. -1.  1. -1.  1. -1. -1.  1. -1.  1.  1. -1.  1. -1. -1.\n",
      "  1. -1. -1.  1. -1.  1. -1.  1.  1.  1. -1. -1.  1. -1.  1. -1.  1. -1.\n",
      " -1.  1.]\n",
      "[-1. -1.  1. -1.  1. -1.  1. -1. -1.  1. -1.  1.  1. -1.  1. -1. -1.  1.\n",
      " -1. -1.  1. -1.  1. -1.  1.  1.  1. -1. -1.  1. -1.  1. -1.  1. -1. -1.\n",
      " -1.]\n",
      "[-1.  1. -1.  1. -1.  1. -1. -1.  1. -1.  1.  1. -1.  1. -1. -1.  1. -1.\n",
      " -1.  1. -1.  1. -1.  1.  1.  1. -1. -1.  1. -1.  1. -1.  1. -1. -1. -1.]\n",
      "[ 1. -1.  1. -1.  1. -1. -1.  1. -1.  1.  1. -1.  1. -1. -1.  1. -1. -1.\n",
      "  1. -1.  1. -1.  1.  1.  1. -1. -1.  1. -1.  1. -1.  1. -1. -1.  1.]\n",
      "[-1.  1. -1.  1. -1. -1.  1. -1.  1.  1. -1.  1. -1. -1.  1. -1. -1.  1.\n",
      " -1.  1. -1.  1.  1.  1. -1. -1.  1. -1.  1. -1.  1. -1. -1. -1.]\n",
      "[ 1. -1.  1. -1. -1.  1. -1.  1.  1. -1.  1. -1. -1.  1. -1. -1.  1. -1.\n",
      "  1. -1.  1.  1.  1. -1. -1.  1. -1.  1. -1.  1. -1. -1.  1.]\n",
      "[-1.  1. -1. -1.  1. -1.  1.  1. -1.  1. -1. -1.  1. -1. -1.  1. -1.  1.\n",
      " -1.  1.  1.  1. -1. -1.  1. -1.  1. -1.  1. -1. -1. -1.]\n",
      "[ 1. -1. -1.  1. -1.  1.  1. -1.  1. -1. -1.  1. -1. -1.  1. -1.  1. -1.\n",
      "  1.  1.  1. -1. -1.  1. -1.  1. -1.  1. -1. -1.  1.]\n",
      "[-1. -1.  1. -1.  1.  1. -1.  1. -1. -1.  1. -1. -1.  1. -1.  1. -1.  1.\n",
      "  1.  1. -1. -1.  1. -1.  1. -1.  1. -1. -1. -1.]\n",
      "[-1.  1. -1.  1.  1. -1.  1. -1. -1.  1. -1. -1.  1. -1.  1. -1.  1.  1.\n",
      "  1. -1. -1.  1. -1.  1. -1.  1. -1. -1. -1.]\n",
      "[ 1. -1.  1.  1. -1.  1. -1. -1.  1. -1. -1.  1. -1.  1. -1.  1.  1.  1.\n",
      " -1. -1.  1. -1.  1. -1.  1. -1. -1.  1.]\n",
      "[-1.  1.  1. -1.  1. -1. -1.  1. -1. -1.  1. -1.  1. -1.  1.  1.  1. -1.\n",
      " -1.  1. -1.  1. -1.  1. -1. -1. -1.]\n",
      "[ 1.  1. -1.  1. -1. -1.  1. -1. -1.  1. -1.  1. -1.  1.  1.  1. -1. -1.\n",
      "  1. -1.  1. -1.  1. -1. -1.  1.]\n",
      "[ 1. -1.  1. -1. -1.  1. -1. -1.  1. -1.  1. -1.  1.  1.  1. -1. -1.  1.\n",
      " -1.  1. -1.  1. -1. -1.  1.]\n",
      "[-1.  1. -1. -1.  1. -1. -1.  1. -1.  1. -1.  1.  1.  1. -1. -1.  1. -1.\n",
      "  1. -1.  1. -1. -1. -1.]\n",
      "[ 1. -1. -1.  1. -1. -1.  1. -1.  1. -1.  1.  1.  1. -1. -1.  1. -1.  1.\n",
      " -1.  1. -1. -1.  1.]\n",
      "[-1. -1.  1. -1. -1.  1. -1.  1. -1.  1.  1.  1. -1. -1.  1. -1.  1. -1.\n",
      "  1. -1. -1. -1.]\n",
      "[-1.  1. -1. -1.  1. -1.  1. -1.  1.  1.  1. -1. -1.  1. -1.  1. -1.  1.\n",
      " -1. -1. -1.]\n",
      "[ 1. -1. -1.  1. -1.  1. -1.  1.  1.  1. -1. -1.  1. -1.  1. -1.  1. -1.\n",
      " -1.  1.]\n",
      "[-1. -1.  1. -1.  1. -1.  1.  1.  1. -1. -1.  1. -1.  1. -1.  1. -1. -1.\n",
      " -1.]\n",
      "[-1.  1. -1.  1. -1.  1.  1.  1. -1. -1.  1. -1.  1. -1.  1. -1. -1. -1.]\n",
      "[ 1. -1.  1. -1.  1.  1.  1. -1. -1.  1. -1.  1. -1.  1. -1. -1.  1.]\n",
      "[-1.  1. -1.  1.  1.  1. -1. -1.  1. -1.  1. -1.  1. -1. -1. -1.]\n",
      "[ 1. -1.  1.  1.  1. -1. -1.  1. -1.  1. -1.  1. -1. -1.  1.]\n",
      "[-1.  1.  1.  1. -1. -1.  1. -1.  1. -1.  1. -1. -1. -1.]\n",
      "[ 1.  1.  1. -1. -1.  1. -1.  1. -1.  1. -1. -1.  1.]\n",
      "[ 1.  1. -1. -1.  1. -1.  1. -1.  1. -1. -1.  1.]\n",
      "[ 1. -1. -1.  1. -1.  1. -1.  1. -1. -1.  1.]\n",
      "[-1. -1.  1. -1.  1. -1.  1. -1. -1. -1.]\n",
      "[-1.  1. -1.  1. -1.  1. -1. -1. -1.]\n",
      "[ 1. -1.  1. -1.  1. -1. -1.  1.]\n",
      "[-1.  1. -1.  1. -1. -1. -1.]\n",
      "[ 1. -1.  1. -1. -1.  1.]\n",
      "[-1.  1. -1. -1. -1.]\n",
      "[ 1. -1. -1.  1.]\n",
      "[-1. -1. -1.]\n",
      "[-1. -1.]\n"
     ]
    }
   ],
   "source": [
    "for i in range(60):\n",
    "    print(np.append(a[i:i+59],a[i]))"
   ]
  },
  {
   "cell_type": "code",
   "execution_count": null,
   "metadata": {},
   "outputs": [],
   "source": []
  }
 ],
 "metadata": {
  "kernelspec": {
   "display_name": "Python 3",
   "language": "python",
   "name": "python3"
  },
  "language_info": {
   "codemirror_mode": {
    "name": "ipython",
    "version": 3
   },
   "file_extension": ".py",
   "mimetype": "text/x-python",
   "name": "python",
   "nbconvert_exporter": "python",
   "pygments_lexer": "ipython3",
   "version": "3.6.6"
  }
 },
 "nbformat": 4,
 "nbformat_minor": 2
}
