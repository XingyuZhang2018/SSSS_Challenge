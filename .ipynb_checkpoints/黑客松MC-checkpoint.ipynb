{
 "cells": [
  {
   "cell_type": "code",
   "execution_count": 1,
   "metadata": {},
   "outputs": [],
   "source": [
    "import numpy as np"
   ]
  },
  {
   "cell_type": "code",
   "execution_count": 2,
   "metadata": {},
   "outputs": [],
   "source": [
    "five12 = [[] for i in range(12)]\n",
    "for i in range(12):\n",
    "    for j in range(5*i,5*i+5):\n",
    "        five12[i].append(j)"
   ]
  },
  {
   "cell_type": "code",
   "execution_count": 3,
   "metadata": {},
   "outputs": [],
   "source": [
    "five_link = [[[] for i in range(12)]  for j in range(2)]\n",
    "five_link[0][0] = [5,1,2,3,4]\n",
    "five_link[0][1] = [0,5,6,7,2]\n",
    "five_link[0][2] = [0,1,7,8,3]\n",
    "five_link[0][3] = [0,2,8,9,4]\n",
    "five_link[0][4] = [0,3,9,10,5]\n",
    "five_link[0][5] = [0,4,10,6,1]\n",
    "five_link[0][6] = [7,1,5,10,11]\n",
    "five_link[0][7] = [11,8,2,1,6]\n",
    "five_link[0][8] = [3,2,7,11,9]\n",
    "five_link[0][9] = [4,3,8,11,10]\n",
    "five_link[0][10] = [5,4,9,11,6]\n",
    "five_link[0][11] = [6,7,8,9,10]\n",
    "\n",
    "five_link[1][0] = [0,0,0,0,0]\n",
    "five_link[1][1] = [1,4,1,3,1]\n",
    "five_link[1][2] = [2,4,2,1,1]\n",
    "five_link[1][3] = [3,4,0,1,1]\n",
    "five_link[1][4] = [4,4,0,1,1]\n",
    "five_link[1][5] = [0,4,0,2,1]\n",
    "five_link[1][6] = [4,2,3,4,0]\n",
    "five_link[1][7] = [1,2,2,3,0]\n",
    "five_link[1][8] = [2,3,1,2,2]\n",
    "five_link[1][9] = [2,3,4,3,2]\n",
    "five_link[1][10] = [2,3,4,4,3]\n",
    "five_link[1][11] = [4,0,3,3,3]"
   ]
  },
  {
   "cell_type": "code",
   "execution_count": 4,
   "metadata": {},
   "outputs": [],
   "source": [
    "neighbors = [[] for i in range(60)]\n",
    "link = []\n",
    "for i in range(12):\n",
    "    for j in range(5):\n",
    "        link.append([five12[i][j],five12[five_link[0][i][j]][five_link[1][i][j]]])\n",
    "\n",
    "link2 = [[] for i in range(12)]\n",
    "for i in range(12):\n",
    "    for j in range(5*i,5*i+4):\n",
    "        link2[i].append([j,j+1])\n",
    "    link2[i].append([5*i+4,5*i])           \n",
    "\n",
    "for k in range(60):\n",
    "    Link = []\n",
    "    for i in range(60):\n",
    "        if k in link[i]:\n",
    "            Link.append(link[i])\n",
    "\n",
    "    for i in range(12):\n",
    "        for j in range(5):\n",
    "            if k in link2[i][j]:\n",
    "                Link.append(link2[i][j])\n",
    "                Link.append(link2[i][j][::-1])\n",
    "    for i in Link:\n",
    "        if i[0] == k:\n",
    "            neighbors[k].append(i[1])"
   ]
  },
  {
   "cell_type": "code",
   "execution_count": 27,
   "metadata": {},
   "outputs": [
    {
     "data": {
      "text/plain": [
       "[[25, 1, 4],\n",
       " [5, 0, 2],\n",
       " [10, 1, 3],\n",
       " [15, 2, 4],\n",
       " [20, 3, 0],\n",
       " [1, 6, 9],\n",
       " [29, 5, 7],\n",
       " [31, 6, 8],\n",
       " [38, 7, 9],\n",
       " [11, 8, 5],\n",
       " [2, 11, 14],\n",
       " [9, 10, 12],\n",
       " [37, 11, 13],\n",
       " [41, 12, 14],\n",
       " [16, 13, 10],\n",
       " [3, 16, 19],\n",
       " [14, 15, 17],\n",
       " [40, 16, 18],\n",
       " [46, 17, 19],\n",
       " [21, 18, 15],\n",
       " [4, 21, 24],\n",
       " [19, 20, 22],\n",
       " [45, 21, 23],\n",
       " [51, 22, 24],\n",
       " [26, 23, 20],\n",
       " [0, 26, 29],\n",
       " [24, 25, 27],\n",
       " [50, 26, 28],\n",
       " [32, 27, 29],\n",
       " [6, 28, 25],\n",
       " [39, 31, 34],\n",
       " [7, 30, 32],\n",
       " [28, 31, 33],\n",
       " [54, 32, 34],\n",
       " [55, 33, 30],\n",
       " [56, 36, 39],\n",
       " [42, 35, 37],\n",
       " [12, 36, 38],\n",
       " [8, 37, 39],\n",
       " [30, 38, 35],\n",
       " [17, 41, 44],\n",
       " [13, 40, 42],\n",
       " [36, 41, 43],\n",
       " [57, 42, 44],\n",
       " [47, 43, 40],\n",
       " [22, 46, 49],\n",
       " [18, 45, 47],\n",
       " [44, 46, 48],\n",
       " [58, 47, 49],\n",
       " [52, 48, 45],\n",
       " [27, 51, 54],\n",
       " [23, 50, 52],\n",
       " [49, 51, 53],\n",
       " [59, 52, 54],\n",
       " [33, 53, 50],\n",
       " [34, 56, 59],\n",
       " [35, 55, 57],\n",
       " [43, 56, 58],\n",
       " [48, 57, 59],\n",
       " [53, 58, 55]]"
      ]
     },
     "execution_count": 27,
     "metadata": {},
     "output_type": "execute_result"
    }
   ],
   "source": [
    "neighbors"
   ]
  },
  {
   "cell_type": "code",
   "execution_count": 57,
   "metadata": {},
   "outputs": [],
   "source": [
    "import random\n",
    "import matplotlib.pyplot as plt\n",
    "import xlwt\n",
    "import time\n",
    "\n",
    "def init_spin_array():\n",
    "    return np.ones(60)\n",
    "\n",
    "\n",
    "def find_neighbors(array, i):\n",
    "    return [array[neighbors[i][0]],\n",
    "            array[neighbors[i][1]],\n",
    "            array[neighbors[i][2]]]\n",
    "\n",
    "def energy(array, i):\n",
    "    return 2 * array[i] * np.sum(find_neighbors(array, i))\n",
    "\n",
    "def Total_energy(array):\n",
    "    E = 0\n",
    "    for i in range(60):\n",
    "        E +=  array[i] * np.sum(find_neighbors(array, i))\n",
    "    return E/2\n",
    "\n",
    "def IsingMC(beta,spin_array):\n",
    "    # the Monte Carlo follows below\n",
    "    #mag = np.zeros(sweeps)\n",
    "    ene = np.zeros(sweeps)\n",
    "    for sweep in range(RELAX_SWEEPS):\n",
    "        for i in range(60):\n",
    "            e = energy(spin_array, i)\n",
    "            if e <= 0:\n",
    "                spin_array[i] *= -1\n",
    "            elif np.exp((-1.0 * e) * beta) > random.random():\n",
    "                spin_array[i] *= -1\n",
    "    for sweep in range(sweeps):\n",
    "        for i in range(60):\n",
    "            e = energy(spin_array, i)\n",
    "            if e <= 0:\n",
    "                spin_array[i] *= -1\n",
    "            elif np.exp((-1.0 * e) * beta) > random.random():\n",
    "                spin_array[i] *= -1\n",
    "       # mag[sweep] = abs(sum(spin_array)) / 60\n",
    "        ene[sweep] = Total_energy(spin_array) \n",
    "           \n",
    "    #ma = sum(mag) / sweeps\n",
    "    en = np.sum(ene) / sweeps\n",
    "    print(beta, en)\n",
    "    x.append(beta)\n",
    " #   y1.append(ma)\n",
    "    y2.append(en)\n",
    "    return spin_array\n",
    "    \n"
   ]
  },
  {
   "cell_type": "code",
   "execution_count": null,
   "metadata": {},
   "outputs": [],
   "source": []
  },
  {
   "cell_type": "code",
   "execution_count": 52,
   "metadata": {},
   "outputs": [
    {
     "name": "stdout",
     "output_type": "stream",
     "text": [
      "1.16076303667e-23\n"
     ]
    }
   ],
   "source": [
    "def allspin(s):\n",
    "    e = np.zeros(60)\n",
    "    for i in range(0,60,1):\n",
    "        e[i] = int(s%2)\n",
    "        if e[i] == 0:\n",
    "            e[i] = int(-1)\n",
    "        s=s//2\n",
    "    return e\n",
    "\n",
    "sum = 0\n",
    "for i in range(2**12):\n",
    "    sum += np.exp(-Total_energy(allspin(i)))\n",
    "print(sum)"
   ]
  },
  {
   "cell_type": "code",
   "execution_count": 58,
   "metadata": {},
   "outputs": [
    {
     "name": "stdout",
     "output_type": "stream",
     "text": [
      "1.0 88.681\n",
      "0.99 88.6056\n",
      "0.98 88.523\n",
      "0.97 88.4306\n",
      "0.96 88.3036\n",
      "0.95 88.1818\n",
      "0.94 87.9812\n",
      "0.93 87.9702\n",
      "0.92 87.7496\n",
      "0.91 87.612\n",
      "0.9 87.4572\n",
      "0.89 87.2138\n",
      "0.88 86.8344\n",
      "0.87 86.7086\n",
      "0.86 86.5992\n",
      "0.85 86.312\n",
      "0.84 86.0498\n",
      "0.83 85.732\n",
      "0.82 85.0472\n",
      "0.81 84.9178\n",
      "0.8 84.147\n",
      "0.79 83.987\n",
      "0.78 83.4618\n",
      "0.77 82.9942\n",
      "0.76 82.0024\n",
      "0.75 81.5238\n",
      "0.74 81.262\n",
      "0.73 79.928\n",
      "0.72 78.812\n",
      "0.71 77.6792\n",
      "0.7 77.0076\n",
      "0.69 75.4076\n",
      "0.68 74.6416\n",
      "0.67 72.9744\n",
      "0.66 71.904\n",
      "0.65 69.6836\n",
      "0.64 68.5606\n",
      "0.63 66.47\n",
      "0.62 65.0218\n",
      "0.61 63.8802\n",
      "0.6 62.0492\n",
      "0.59 60.8032\n",
      "0.58 58.6394\n",
      "0.57 57.127\n",
      "0.56 55.3894\n",
      "0.55 54.3188\n",
      "0.54 52.9448\n",
      "0.53 51.6968\n",
      "0.52 49.6056\n",
      "0.51 48.9524\n",
      "0.5 47.1262\n",
      "0.49 45.8322\n",
      "0.48 45.0882\n",
      "0.47 43.5992\n",
      "0.46 42.62\n",
      "0.45 41.5902\n",
      "0.44 40.696\n",
      "0.43 39.223\n",
      "0.42 38.4848\n",
      "0.41 37.243\n",
      "0.4 36.1966\n",
      "0.39 35.28\n",
      "0.38 34.3514\n",
      "0.37 33.414\n",
      "0.36 32.376\n",
      "0.35 31.427\n",
      "0.34 30.6968\n",
      "0.33 29.6734\n",
      "0.32 28.6454\n",
      "0.31 27.951\n",
      "0.3 26.9594\n",
      "0.29 25.9588\n",
      "0.28 24.8788\n",
      "0.27 24.289\n",
      "0.26 22.9646\n",
      "0.25 22.0928\n",
      "0.24 21.5276\n",
      "0.23 20.6056\n",
      "0.22 19.7752\n",
      "0.21 19.0606\n",
      "0.2 18.0358\n",
      "0.19 16.6684\n",
      "0.18 16.1674\n",
      "0.17 15.2202\n",
      "0.16 14.2364\n",
      "0.15 13.3456\n",
      "0.14 12.7614\n",
      "0.13 11.3738\n",
      "0.12 10.9402\n",
      "0.11 9.8846\n",
      "0.1 9.0956\n",
      "0.09 7.815\n",
      "0.08 7.3186\n",
      "0.07 6.1738\n",
      "0.06 5.4582\n",
      "0.05 4.3686\n",
      "0.04 3.67\n",
      "0.03 2.4052\n",
      "0.02 1.9708\n"
     ]
    },
    {
     "data": {
      "image/png": "[encoded data removed]",
      "text/plain": [
       "<Figure size 432x288 with 1 Axes>"
      ]
     },
     "metadata": {},
     "output_type": "display_data"
    },
    {
     "name": "stdout",
     "output_type": "stream",
     "text": [
      "1318.898568868637\n"
     ]
    }
   ],
   "source": [
    "RELAX_SWEEPS = 10000\n",
    "sweeps = 10000\n",
    "betaB = 0.01\n",
    "betaE = 1\n",
    "interval = 0.01 \n",
    "x =[]\n",
    "#y1 =[]\n",
    "y2 = []\n",
    "timex=time.time()\n",
    "spin_array = init_spin_array()\n",
    "for beta in np.arange(betaE, betaB,-interval):\n",
    "    spin_array = IsingMC(beta,spin_array)\n",
    "#plt.figure(1)\n",
    "#plt.plot(x,y1)\n",
    "plt.figure(2)\n",
    "plt.plot(x,y2)\n",
    "plt.show()\n",
    "print (time.time()-timex)"
   ]
  },
  {
   "cell_type": "code",
   "execution_count": 60,
   "metadata": {},
   "outputs": [
    {
     "data": {
      "text/plain": [
       "-0.13590655277338826"
      ]
     },
     "execution_count": 60,
     "metadata": {},
     "output_type": "execute_result"
    }
   ],
   "source": [
    "import math\n",
    "-np.sum(y2)*interval/60+math.log(2)"
   ]
  },
  {
   "cell_type": "code",
   "execution_count": 8,
   "metadata": {},
   "outputs": [
    {
     "data": {
      "image/png": "[encoded data removed]",
      "text/plain": [
       "<Figure size 432x288 with 1 Axes>"
      ]
     },
     "metadata": {},
     "output_type": "display_data"
    }
   ],
   "source": [
    "plt.figure(2)\n",
    "plt.plot(x,y2)\n",
    "plt.show()"
   ]
  },
  {
   "cell_type": "code",
   "execution_count": 80,
   "metadata": {},
   "outputs": [],
   "source": [
    "Emin = -42\n",
    "spin_array = np.ones(60)\n",
    "for beta in np.arange(0.01, 0.001,-0.001):\n",
    "    for sweep in range(sweeps):\n",
    "        for i in range(60):\n",
    "            e = energy(spin_array, i)\n",
    "            if e <= 0:\n",
    "                spin_array[i] *= -1\n",
    "            elif np.exp((-1.0 * e) * beta) > random.random():\n",
    "                spin_array[i] *= -1      \n",
    "        Enew = Total_energy(spin_array)    \n",
    "        if Enew <= Emin:\n",
    "            Emin = Enew\n",
    "            spin_array_min = spin_array\n",
    "            print(Emin)\n",
    "            print(spin_array_min)"
   ]
  },
  {
   "cell_type": "code",
   "execution_count": 67,
   "metadata": {},
   "outputs": [
    {
     "data": {
      "text/plain": [
       "array([ 1.,  1.,  1., -1.,  1., -1.,  1.,  1., -1.,  1., -1.,  1.,  1.,\n",
       "       -1., -1., -1.,  1., -1.,  1., -1., -1.,  1., -1.,  1., -1., -1.,\n",
       "        1., -1., -1., -1.,  1.,  1., -1., -1.,  1., -1., -1.,  1.,  1.,\n",
       "        1., -1.,  1., -1.,  1.,  1.,  1.,  1., -1., -1., -1., -1.,  1.,\n",
       "       -1., -1., -1., -1.,  1.,  1., -1.,  1.])"
      ]
     },
     "execution_count": 67,
     "metadata": {},
     "output_type": "execute_result"
    }
   ],
   "source": [
    "spin_array_min"
   ]
  },
  {
   "cell_type": "code",
   "execution_count": 83,
   "metadata": {},
   "outputs": [
    {
     "name": "stdout",
     "output_type": "stream",
     "text": [
      "1.0 88.6416\n",
      "1.1 89.3694\n",
      "1.2 89.6834\n"
     ]
    },
    {
     "ename": "KeyboardInterrupt",
     "evalue": "",
     "output_type": "error",
     "traceback": [
      "\u001b[1;31m---------------------------------------------------------------------------\u001b[0m",
      "\u001b[1;31mKeyboardInterrupt\u001b[0m                         Traceback (most recent call last)",
      "\u001b[1;32m<ipython-input-83-87bf5a0c7492>\u001b[0m in \u001b[0;36m<module>\u001b[1;34m()\u001b[0m\n\u001b[0;32m     11\u001b[0m \u001b[0mspin_array\u001b[0m \u001b[1;33m=\u001b[0m \u001b[0mnp\u001b[0m\u001b[1;33m.\u001b[0m\u001b[0marray\u001b[0m\u001b[1;33m(\u001b[0m\u001b[1;33m[\u001b[0m\u001b[1;36m1\u001b[0m\u001b[1;33m,\u001b[0m \u001b[1;33m-\u001b[0m\u001b[1;36m1\u001b[0m\u001b[1;33m,\u001b[0m \u001b[1;36m1\u001b[0m\u001b[1;33m,\u001b[0m \u001b[1;33m-\u001b[0m\u001b[1;36m1\u001b[0m\u001b[1;33m,\u001b[0m \u001b[1;36m1\u001b[0m\u001b[1;33m,\u001b[0m \u001b[1;36m1\u001b[0m\u001b[1;33m,\u001b[0m \u001b[1;33m-\u001b[0m\u001b[1;36m1\u001b[0m\u001b[1;33m,\u001b[0m \u001b[1;36m1\u001b[0m\u001b[1;33m,\u001b[0m \u001b[1;36m1\u001b[0m\u001b[1;33m,\u001b[0m \u001b[1;33m-\u001b[0m\u001b[1;36m1\u001b[0m\u001b[1;33m,\u001b[0m \u001b[1;33m-\u001b[0m\u001b[1;36m1\u001b[0m\u001b[1;33m,\u001b[0m \u001b[1;33m-\u001b[0m\u001b[1;36m1\u001b[0m\u001b[1;33m,\u001b[0m \u001b[1;36m1\u001b[0m\u001b[1;33m,\u001b[0m \u001b[1;33m-\u001b[0m\u001b[1;36m1\u001b[0m\u001b[1;33m,\u001b[0m \u001b[1;36m1\u001b[0m\u001b[1;33m,\u001b[0m \u001b[1;36m1\u001b[0m\u001b[1;33m,\u001b[0m \u001b[1;33m-\u001b[0m\u001b[1;36m1\u001b[0m\u001b[1;33m,\u001b[0m \u001b[1;36m1\u001b[0m\u001b[1;33m,\u001b[0m \u001b[1;36m1\u001b[0m\u001b[1;33m,\u001b[0m \u001b[1;36m1\u001b[0m\u001b[1;33m,\u001b[0m \u001b[1;33m-\u001b[0m\u001b[1;36m1\u001b[0m\u001b[1;33m,\u001b[0m \u001b[1;33m-\u001b[0m\u001b[1;36m1\u001b[0m\u001b[1;33m,\u001b[0m \u001b[1;36m1\u001b[0m\u001b[1;33m,\u001b[0m \u001b[1;33m-\u001b[0m\u001b[1;36m1\u001b[0m\u001b[1;33m,\u001b[0m \u001b[1;36m1\u001b[0m\u001b[1;33m,\u001b[0m \u001b[1;33m-\u001b[0m\u001b[1;36m1\u001b[0m\u001b[1;33m,\u001b[0m \u001b[1;36m1\u001b[0m\u001b[1;33m,\u001b[0m \u001b[1;36m1\u001b[0m\u001b[1;33m,\u001b[0m \u001b[1;36m1\u001b[0m\u001b[1;33m,\u001b[0m \u001b[1;36m1\u001b[0m\u001b[1;33m,\u001b[0m \u001b[1;33m-\u001b[0m\u001b[1;36m1\u001b[0m\u001b[1;33m,\u001b[0m \u001b[1;33m-\u001b[0m\u001b[1;36m1\u001b[0m\u001b[1;33m,\u001b[0m \u001b[1;33m-\u001b[0m\u001b[1;36m1\u001b[0m\u001b[1;33m,\u001b[0m \u001b[1;36m1\u001b[0m\u001b[1;33m,\u001b[0m \u001b[1;33m-\u001b[0m\u001b[1;36m1\u001b[0m\u001b[1;33m,\u001b[0m \u001b[1;33m-\u001b[0m\u001b[1;36m1\u001b[0m\u001b[1;33m,\u001b[0m \u001b[1;36m1\u001b[0m\u001b[1;33m,\u001b[0m \u001b[1;33m-\u001b[0m\u001b[1;36m1\u001b[0m\u001b[1;33m,\u001b[0m \u001b[1;33m-\u001b[0m\u001b[1;36m1\u001b[0m\u001b[1;33m,\u001b[0m \u001b[1;36m1\u001b[0m\u001b[1;33m,\u001b[0m \u001b[1;33m-\u001b[0m\u001b[1;36m1\u001b[0m\u001b[1;33m,\u001b[0m \u001b[1;36m1\u001b[0m\u001b[1;33m,\u001b[0m \u001b[1;33m-\u001b[0m\u001b[1;36m1\u001b[0m\u001b[1;33m,\u001b[0m \u001b[1;33m-\u001b[0m\u001b[1;36m1\u001b[0m\u001b[1;33m,\u001b[0m \u001b[1;36m1\u001b[0m\u001b[1;33m,\u001b[0m \u001b[1;33m-\u001b[0m\u001b[1;36m1\u001b[0m\u001b[1;33m,\u001b[0m \u001b[1;36m1\u001b[0m\u001b[1;33m,\u001b[0m \u001b[1;33m-\u001b[0m\u001b[1;36m1\u001b[0m\u001b[1;33m,\u001b[0m \u001b[1;36m1\u001b[0m\u001b[1;33m,\u001b[0m \u001b[1;36m1\u001b[0m\u001b[1;33m,\u001b[0m \u001b[1;33m-\u001b[0m\u001b[1;36m1\u001b[0m\u001b[1;33m,\u001b[0m \u001b[1;36m1\u001b[0m\u001b[1;33m,\u001b[0m \u001b[1;36m1\u001b[0m\u001b[1;33m,\u001b[0m \u001b[1;33m-\u001b[0m\u001b[1;36m1\u001b[0m\u001b[1;33m,\u001b[0m \u001b[1;36m1\u001b[0m\u001b[1;33m,\u001b[0m \u001b[1;36m1\u001b[0m\u001b[1;33m,\u001b[0m \u001b[1;33m-\u001b[0m\u001b[1;36m1\u001b[0m\u001b[1;33m,\u001b[0m \u001b[1;36m1\u001b[0m\u001b[1;33m,\u001b[0m \u001b[1;33m-\u001b[0m\u001b[1;36m1\u001b[0m\u001b[1;33m,\u001b[0m \u001b[1;36m1\u001b[0m\u001b[1;33m]\u001b[0m\u001b[1;33m)\u001b[0m\u001b[1;33m\u001b[0m\u001b[0m\n\u001b[0;32m     12\u001b[0m \u001b[1;32mfor\u001b[0m \u001b[0mbeta\u001b[0m \u001b[1;32min\u001b[0m \u001b[0mnp\u001b[0m\u001b[1;33m.\u001b[0m\u001b[0marange\u001b[0m\u001b[1;33m(\u001b[0m\u001b[0mbetaB\u001b[0m\u001b[1;33m,\u001b[0m \u001b[0mbetaE\u001b[0m\u001b[1;33m,\u001b[0m\u001b[0minterval\u001b[0m\u001b[1;33m)\u001b[0m\u001b[1;33m:\u001b[0m\u001b[1;33m\u001b[0m\u001b[0m\n\u001b[1;32m---> 13\u001b[1;33m     \u001b[0mspin_array\u001b[0m \u001b[1;33m=\u001b[0m \u001b[0mIsingMC\u001b[0m\u001b[1;33m(\u001b[0m\u001b[0mbeta\u001b[0m\u001b[1;33m,\u001b[0m\u001b[0mspin_array\u001b[0m\u001b[1;33m)\u001b[0m\u001b[1;33m\u001b[0m\u001b[0m\n\u001b[0m\u001b[0;32m     14\u001b[0m \u001b[1;31m#plt.figure(1)\u001b[0m\u001b[1;33m\u001b[0m\u001b[1;33m\u001b[0m\u001b[0m\n\u001b[0;32m     15\u001b[0m \u001b[1;31m#plt.plot(x,y1)\u001b[0m\u001b[1;33m\u001b[0m\u001b[1;33m\u001b[0m\u001b[0m\n",
      "\u001b[1;32m<ipython-input-57-862c0d947089>\u001b[0m in \u001b[0;36mIsingMC\u001b[1;34m(beta, spin_array)\u001b[0m\n\u001b[0;32m     35\u001b[0m     \u001b[1;32mfor\u001b[0m \u001b[0msweep\u001b[0m \u001b[1;32min\u001b[0m \u001b[0mrange\u001b[0m\u001b[1;33m(\u001b[0m\u001b[0msweeps\u001b[0m\u001b[1;33m)\u001b[0m\u001b[1;33m:\u001b[0m\u001b[1;33m\u001b[0m\u001b[0m\n\u001b[0;32m     36\u001b[0m         \u001b[1;32mfor\u001b[0m \u001b[0mi\u001b[0m \u001b[1;32min\u001b[0m \u001b[0mrange\u001b[0m\u001b[1;33m(\u001b[0m\u001b[1;36m60\u001b[0m\u001b[1;33m)\u001b[0m\u001b[1;33m:\u001b[0m\u001b[1;33m\u001b[0m\u001b[0m\n\u001b[1;32m---> 37\u001b[1;33m             \u001b[0me\u001b[0m \u001b[1;33m=\u001b[0m \u001b[0menergy\u001b[0m\u001b[1;33m(\u001b[0m\u001b[0mspin_array\u001b[0m\u001b[1;33m,\u001b[0m \u001b[0mi\u001b[0m\u001b[1;33m)\u001b[0m\u001b[1;33m\u001b[0m\u001b[0m\n\u001b[0m\u001b[0;32m     38\u001b[0m             \u001b[1;32mif\u001b[0m \u001b[0me\u001b[0m \u001b[1;33m<=\u001b[0m \u001b[1;36m0\u001b[0m\u001b[1;33m:\u001b[0m\u001b[1;33m\u001b[0m\u001b[0m\n\u001b[0;32m     39\u001b[0m                 \u001b[0mspin_array\u001b[0m\u001b[1;33m[\u001b[0m\u001b[0mi\u001b[0m\u001b[1;33m]\u001b[0m \u001b[1;33m*=\u001b[0m \u001b[1;33m-\u001b[0m\u001b[1;36m1\u001b[0m\u001b[1;33m\u001b[0m\u001b[0m\n",
      "\u001b[1;32m<ipython-input-57-862c0d947089>\u001b[0m in \u001b[0;36menergy\u001b[1;34m(array, i)\u001b[0m\n\u001b[0;32m     14\u001b[0m \u001b[1;33m\u001b[0m\u001b[0m\n\u001b[0;32m     15\u001b[0m \u001b[1;32mdef\u001b[0m \u001b[0menergy\u001b[0m\u001b[1;33m(\u001b[0m\u001b[0marray\u001b[0m\u001b[1;33m,\u001b[0m \u001b[0mi\u001b[0m\u001b[1;33m)\u001b[0m\u001b[1;33m:\u001b[0m\u001b[1;33m\u001b[0m\u001b[0m\n\u001b[1;32m---> 16\u001b[1;33m     \u001b[1;32mreturn\u001b[0m \u001b[1;36m2\u001b[0m \u001b[1;33m*\u001b[0m \u001b[0marray\u001b[0m\u001b[1;33m[\u001b[0m\u001b[0mi\u001b[0m\u001b[1;33m]\u001b[0m \u001b[1;33m*\u001b[0m \u001b[0mnp\u001b[0m\u001b[1;33m.\u001b[0m\u001b[0msum\u001b[0m\u001b[1;33m(\u001b[0m\u001b[0mfind_neighbors\u001b[0m\u001b[1;33m(\u001b[0m\u001b[0marray\u001b[0m\u001b[1;33m,\u001b[0m \u001b[0mi\u001b[0m\u001b[1;33m)\u001b[0m\u001b[1;33m)\u001b[0m\u001b[1;33m\u001b[0m\u001b[0m\n\u001b[0m\u001b[0;32m     17\u001b[0m \u001b[1;33m\u001b[0m\u001b[0m\n\u001b[0;32m     18\u001b[0m \u001b[1;32mdef\u001b[0m \u001b[0mTotal_energy\u001b[0m\u001b[1;33m(\u001b[0m\u001b[0marray\u001b[0m\u001b[1;33m)\u001b[0m\u001b[1;33m:\u001b[0m\u001b[1;33m\u001b[0m\u001b[0m\n",
      "\u001b[1;32mD:\\Anaconda3\\lib\\site-packages\\numpy\\core\\fromnumeric.py\u001b[0m in \u001b[0;36msum\u001b[1;34m(a, axis, dtype, out, keepdims)\u001b[0m\n\u001b[0;32m   1812\u001b[0m             \u001b[1;32mreturn\u001b[0m \u001b[0msum\u001b[0m\u001b[1;33m(\u001b[0m\u001b[0maxis\u001b[0m\u001b[1;33m=\u001b[0m\u001b[0maxis\u001b[0m\u001b[1;33m,\u001b[0m \u001b[0mdtype\u001b[0m\u001b[1;33m=\u001b[0m\u001b[0mdtype\u001b[0m\u001b[1;33m,\u001b[0m \u001b[0mout\u001b[0m\u001b[1;33m=\u001b[0m\u001b[0mout\u001b[0m\u001b[1;33m,\u001b[0m \u001b[1;33m**\u001b[0m\u001b[0mkwargs\u001b[0m\u001b[1;33m)\u001b[0m\u001b[1;33m\u001b[0m\u001b[0m\n\u001b[0;32m   1813\u001b[0m     return _methods._sum(a, axis=axis, dtype=dtype,\n\u001b[1;32m-> 1814\u001b[1;33m                          out=out, **kwargs)\n\u001b[0m\u001b[0;32m   1815\u001b[0m \u001b[1;33m\u001b[0m\u001b[0m\n\u001b[0;32m   1816\u001b[0m \u001b[1;33m\u001b[0m\u001b[0m\n",
      "\u001b[1;31mKeyboardInterrupt\u001b[0m: "
     ]
    }
   ],
   "source": [
    "RELAX_SWEEPS = 10000\n",
    "sweeps = 10000\n",
    "betaB = 1\n",
    "betaE = 5\n",
    "interval = 0.1 \n",
    "x =[]\n",
    "#y1 =[]\n",
    "y2 = []\n",
    "timex=time.time()\n",
    "spin_array = np.array([1, -1, 1, -1, 1, 1, -1, 1, 1, -1, -1, -1, 1, -1, 1, 1, -1, 1, 1, 1, \\\n",
    "-1, -1, 1, -1, 1, -1, 1, 1, 1, 1, -1, -1, -1, 1, -1, -1, 1, -1, -1, \\\n",
    "1, -1, 1, -1, -1, 1, -1, 1, -1, 1, 1, -1, 1, 1, -1, 1, 1, -1, 1, -1, \\\n",
    "1])\n",
    "for beta in np.arange(betaB, betaE,interval):\n",
    "    spin_array = IsingMC(beta,spin_array)\n",
    "#plt.figure(1)\n",
    "#plt.plot(x,y1)\n",
    "plt.figure(2)\n",
    "plt.plot(x,y2)\n",
    "plt.show()\n",
    "print (time.time()-timex)"
   ]
  }
 ],
 "metadata": {
  "kernelspec": {
   "display_name": "Python 3",
   "language": "python",
   "name": "python3"
  },
  "language_info": {
   "codemirror_mode": {
    "name": "ipython",
    "version": 3
   },
   "file_extension": ".py",
   "mimetype": "text/x-python",
   "name": "python",
   "nbconvert_exporter": "python",
   "pygments_lexer": "ipython3",
   "version": "3.6.6"
  }
 },
 "nbformat": 4,
 "nbformat_minor": 2
}
