{
 "cells": [
  {
   "cell_type": "code",
   "execution_count": 9,
   "metadata": {},
   "outputs": [],
   "source": [
    "import numpy as np\n",
    "\n",
    "five12 = [[] for i in range(12)]\n",
    "for i in range(12):\n",
    "    for j in range(5*i,5*i+5):\n",
    "        five12[i].append(j)\n",
    "        \n",
    "five_link = [[[] for i in range(12)]  for j in range(2)]\n",
    "five_link[0][0] = [5,1,2,3,4]\n",
    "five_link[0][1] = [0,5,6,7,2]\n",
    "five_link[0][2] = [0,1,7,8,3]\n",
    "five_link[0][3] = [0,2,8,9,4]\n",
    "five_link[0][4] = [0,3,9,10,5]\n",
    "five_link[0][5] = [0,4,10,6,1]\n",
    "five_link[0][6] = [7,1,5,10,11]\n",
    "five_link[0][7] = [11,8,2,1,6]\n",
    "five_link[0][8] = [3,2,7,11,9]\n",
    "five_link[0][9] = [4,3,8,11,10]\n",
    "five_link[0][10] = [5,4,9,11,6]\n",
    "five_link[0][11] = [6,7,8,9,10]\n",
    "\n",
    "five_link[1][0] = [0,0,0,0,0]\n",
    "five_link[1][1] = [1,4,1,3,1]\n",
    "five_link[1][2] = [2,4,2,1,1]\n",
    "five_link[1][3] = [3,4,0,1,1]\n",
    "five_link[1][4] = [4,4,0,1,1]\n",
    "five_link[1][5] = [0,4,0,2,1]\n",
    "five_link[1][6] = [4,2,3,4,0]\n",
    "five_link[1][7] = [1,2,2,3,0]\n",
    "five_link[1][8] = [2,3,1,2,2]\n",
    "five_link[1][9] = [2,3,4,3,2]\n",
    "five_link[1][10] = [2,3,4,4,3]\n",
    "five_link[1][11] = [4,0,3,3,3]\n",
    "\n",
    "neighbors = [[] for i in range(60)]\n",
    "link = []\n",
    "for i in range(12):\n",
    "    for j in range(5):\n",
    "        link.append([five12[i][j],five12[five_link[0][i][j]][five_link[1][i][j]]])\n",
    "\n",
    "link2 = [[] for i in range(12)]\n",
    "for i in range(12):\n",
    "    for j in range(5*i,5*i+4):\n",
    "        link2[i].append([j,j+1])\n",
    "    link2[i].append([5*i+4,5*i])           \n",
    "\n",
    "for k in range(60):\n",
    "    Link = []\n",
    "    for i in range(60):\n",
    "        if k in link[i]:\n",
    "            Link.append(link[i])\n",
    "\n",
    "    for i in range(12):\n",
    "        for j in range(5):\n",
    "            if k in link2[i][j]:\n",
    "                Link.append(link2[i][j])\n",
    "                Link.append(link2[i][j][::-1])\n",
    "    for i in Link:\n",
    "        if i[0] == k:\n",
    "            neighbors[k].append(i[1])"
   ]
  },
  {
   "cell_type": "code",
   "execution_count": 10,
   "metadata": {},
   "outputs": [],
   "source": [
    "import random\n",
    "import matplotlib.pyplot as plt\n",
    "import xlwt\n",
    "import time\n",
    "\n",
    "def init_spin_array():\n",
    "    return np.ones(60)\n",
    "\n",
    "\n",
    "def find_neighbors(array, i):\n",
    "    return [array[neighbors[i][0]],\n",
    "            array[neighbors[i][1]],\n",
    "            array[neighbors[i][2]]]\n",
    "\n",
    "def energy(array, i):\n",
    "    return 2 * array[i] * np.sum(find_neighbors(array, i))\n",
    "\n",
    "def Total_energy(array):\n",
    "    E = 0\n",
    "    for i in range(60):\n",
    "        E +=  array[i] * np.sum(find_neighbors(array, i))\n",
    "    return E/2\n",
    "\n",
    "def IsingMC(beta,spin_array):\n",
    "    # the Monte Carlo follows below\n",
    "    #mag = np.zeros(sweeps)\n",
    "    ene = np.zeros(sweeps)\n",
    "    for sweep in range(RELAX_SWEEPS):\n",
    "        for i in range(60):\n",
    "            e = energy(spin_array, i)\n",
    "            if e <= 0:\n",
    "                spin_array[i] *= -1\n",
    "            elif np.exp((-1.0 * e) * beta) > random.random():\n",
    "                spin_array[i] *= -1\n",
    "    for sweep in range(sweeps):\n",
    "        for i in range(60):\n",
    "            e = energy(spin_array, i)\n",
    "            if e <= 0:\n",
    "                spin_array[i] *= -1\n",
    "            elif np.exp((-1.0 * e) * beta) > random.random():\n",
    "                spin_array[i] *= -1\n",
    "       # mag[sweep] = abs(sum(spin_array)) / 60\n",
    "        ene[sweep] = Total_energy(spin_array) \n",
    "           \n",
    "    #ma = sum(mag) / sweeps\n",
    "    en = np.sum(ene) / sweeps\n",
    "    print(beta, en)\n",
    "    x.append(beta)\n",
    " #   y1.append(ma)\n",
    "    y2.append(en)\n",
    "    return spin_array\n",
    "    \n"
   ]
  },
  {
   "cell_type": "code",
   "execution_count": 11,
   "metadata": {},
   "outputs": [
    {
     "name": "stdout",
     "output_type": "stream",
     "text": [
      "1.16076303667e-23\n"
     ]
    }
   ],
   "source": [
    "def allspin(s):\n",
    "    e = np.zeros(60)\n",
    "    for i in range(0,60,1):\n",
    "        e[i] = int(s%2)\n",
    "        if e[i] == 0:\n",
    "            e[i] = int(-1)\n",
    "        s=s//2\n",
    "    return e\n",
    "\n",
    "sum = 0\n",
    "for i in range(2**12):\n",
    "    sum += np.exp(-Total_energy(allspin(i)))\n",
    "print(sum)"
   ]
  },
  {
   "cell_type": "code",
   "execution_count": 12,
   "metadata": {},
   "outputs": [
    {
     "name": "stdout",
     "output_type": "stream",
     "text": [
      "1.0 88.6356\n",
      "0.9 87.4434\n",
      "0.8 84.152\n",
      "0.7 77.1182\n",
      "0.6 61.9686\n",
      "0.5 47.3216\n",
      "0.4 36.3878\n",
      "0.3 26.6256\n",
      "0.2 17.9026\n"
     ]
    },
    {
     "data": {
      "image/png": "[encoded data removed]",
      "text/plain": [
       "<Figure size 432x288 with 1 Axes>"
      ]
     },
     "metadata": {},
     "output_type": "display_data"
    },
    {
     "name": "stdout",
     "output_type": "stream",
     "text": [
      "115.11127209663391\n"
     ]
    }
   ],
   "source": [
    "RELAX_SWEEPS = 10000\n",
    "sweeps = 10000\n",
    "betaB = 0.01\n",
    "betaE = 1\n",
    "interval = 0.01 \n",
    "x =[]\n",
    "#y1 =[]\n",
    "y2 = []\n",
    "timex=time.time()\n",
    "spin_array = init_spin_array()\n",
    "for beta in np.arange(betaE, betaB,-interval):\n",
    "    spin_array = IsingMC(beta,spin_array)\n",
    "#plt.figure(1)\n",
    "#plt.plot(x,y1)\n",
    "plt.figure(2)\n",
    "plt.plot(x,y2)\n",
    "plt.show()\n",
    "print (time.time()-timex)"
   ]
  },
  {
   "cell_type": "code",
   "execution_count": 13,
   "metadata": {},
   "outputs": [
    {
     "data": {
      "text/plain": [
       "-0.18611181944005462"
      ]
     },
     "execution_count": 13,
     "metadata": {},
     "output_type": "execute_result"
    }
   ],
   "source": [
    "import math\n",
    "-np.sum(y2)*interval/60+math.log(2)"
   ]
  },
  {
   "cell_type": "code",
   "execution_count": 80,
   "metadata": {},
   "outputs": [],
   "source": [
    "Emin = -42\n",
    "spin_array = np.ones(60)\n",
    "for beta in np.arange(0.01, 0.001,-0.001):\n",
    "    for sweep in range(sweeps):\n",
    "        for i in range(60):\n",
    "            e = energy(spin_array, i)\n",
    "            if e <= 0:\n",
    "                spin_array[i] *= -1\n",
    "            elif np.exp((-1.0 * e) * beta) > random.random():\n",
    "                spin_array[i] *= -1      \n",
    "        Enew = Total_energy(spin_array)    \n",
    "        if Enew <= Emin:\n",
    "            Emin = Enew\n",
    "            spin_array_min = spin_array\n",
    "            print(Emin)\n",
    "            print(spin_array_min)"
   ]
  },
  {
   "cell_type": "code",
   "execution_count": 67,
   "metadata": {},
   "outputs": [
    {
     "data": {
      "text/plain": [
       "array([ 1.,  1.,  1., -1.,  1., -1.,  1.,  1., -1.,  1., -1.,  1.,  1.,\n",
       "       -1., -1., -1.,  1., -1.,  1., -1., -1.,  1., -1.,  1., -1., -1.,\n",
       "        1., -1., -1., -1.,  1.,  1., -1., -1.,  1., -1., -1.,  1.,  1.,\n",
       "        1., -1.,  1., -1.,  1.,  1.,  1.,  1., -1., -1., -1., -1.,  1.,\n",
       "       -1., -1., -1., -1.,  1.,  1., -1.,  1.])"
      ]
     },
     "execution_count": 67,
     "metadata": {},
     "output_type": "execute_result"
    }
   ],
   "source": [
    "spin_array_min"
   ]
  },
  {
   "cell_type": "code",
   "execution_count": 83,
   "metadata": {},
   "outputs": [
    {
     "name": "stdout",
     "output_type": "stream",
     "text": [
      "1.0 88.6416\n",
      "1.1 89.3694\n",
      "1.2 89.6834\n"
     ]
    },
    {
     "ename": "KeyboardInterrupt",
     "evalue": "",
     "output_type": "error",
     "traceback": [
      "\u001b[1;31m---------------------------------------------------------------------------\u001b[0m",
      "\u001b[1;31mKeyboardInterrupt\u001b[0m                         Traceback (most recent call last)",
      "\u001b[1;32m<ipython-input-83-87bf5a0c7492>\u001b[0m in \u001b[0;36m<module>\u001b[1;34m()\u001b[0m\n\u001b[0;32m     11\u001b[0m \u001b[0mspin_array\u001b[0m \u001b[1;33m=\u001b[0m \u001b[0mnp\u001b[0m\u001b[1;33m.\u001b[0m\u001b[0marray\u001b[0m\u001b[1;33m(\u001b[0m\u001b[1;33m[\u001b[0m\u001b[1;36m1\u001b[0m\u001b[1;33m,\u001b[0m \u001b[1;33m-\u001b[0m\u001b[1;36m1\u001b[0m\u001b[1;33m,\u001b[0m \u001b[1;36m1\u001b[0m\u001b[1;33m,\u001b[0m \u001b[1;33m-\u001b[0m\u001b[1;36m1\u001b[0m\u001b[1;33m,\u001b[0m \u001b[1;36m1\u001b[0m\u001b[1;33m,\u001b[0m \u001b[1;36m1\u001b[0m\u001b[1;33m,\u001b[0m \u001b[1;33m-\u001b[0m\u001b[1;36m1\u001b[0m\u001b[1;33m,\u001b[0m \u001b[1;36m1\u001b[0m\u001b[1;33m,\u001b[0m \u001b[1;36m1\u001b[0m\u001b[1;33m,\u001b[0m \u001b[1;33m-\u001b[0m\u001b[1;36m1\u001b[0m\u001b[1;33m,\u001b[0m \u001b[1;33m-\u001b[0m\u001b[1;36m1\u001b[0m\u001b[1;33m,\u001b[0m \u001b[1;33m-\u001b[0m\u001b[1;36m1\u001b[0m\u001b[1;33m,\u001b[0m \u001b[1;36m1\u001b[0m\u001b[1;33m,\u001b[0m \u001b[1;33m-\u001b[0m\u001b[1;36m1\u001b[0m\u001b[1;33m,\u001b[0m \u001b[1;36m1\u001b[0m\u001b[1;33m,\u001b[0m \u001b[1;36m1\u001b[0m\u001b[1;33m,\u001b[0m \u001b[1;33m-\u001b[0m\u001b[1;36m1\u001b[0m\u001b[1;33m,\u001b[0m \u001b[1;36m1\u001b[0m\u001b[1;33m,\u001b[0m \u001b[1;36m1\u001b[0m\u001b[1;33m,\u001b[0m \u001b[1;36m1\u001b[0m\u001b[1;33m,\u001b[0m \u001b[1;33m-\u001b[0m\u001b[1;36m1\u001b[0m\u001b[1;33m,\u001b[0m \u001b[1;33m-\u001b[0m\u001b[1;36m1\u001b[0m\u001b[1;33m,\u001b[0m \u001b[1;36m1\u001b[0m\u001b[1;33m,\u001b[0m \u001b[1;33m-\u001b[0m\u001b[1;36m1\u001b[0m\u001b[1;33m,\u001b[0m \u001b[1;36m1\u001b[0m\u001b[1;33m,\u001b[0m \u001b[1;33m-\u001b[0m\u001b[1;36m1\u001b[0m\u001b[1;33m,\u001b[0m \u001b[1;36m1\u001b[0m\u001b[1;33m,\u001b[0m \u001b[1;36m1\u001b[0m\u001b[1;33m,\u001b[0m \u001b[1;36m1\u001b[0m\u001b[1;33m,\u001b[0m \u001b[1;36m1\u001b[0m\u001b[1;33m,\u001b[0m \u001b[1;33m-\u001b[0m\u001b[1;36m1\u001b[0m\u001b[1;33m,\u001b[0m \u001b[1;33m-\u001b[0m\u001b[1;36m1\u001b[0m\u001b[1;33m,\u001b[0m \u001b[1;33m-\u001b[0m\u001b[1;36m1\u001b[0m\u001b[1;33m,\u001b[0m \u001b[1;36m1\u001b[0m\u001b[1;33m,\u001b[0m \u001b[1;33m-\u001b[0m\u001b[1;36m1\u001b[0m\u001b[1;33m,\u001b[0m \u001b[1;33m-\u001b[0m\u001b[1;36m1\u001b[0m\u001b[1;33m,\u001b[0m \u001b[1;36m1\u001b[0m\u001b[1;33m,\u001b[0m \u001b[1;33m-\u001b[0m\u001b[1;36m1\u001b[0m\u001b[1;33m,\u001b[0m \u001b[1;33m-\u001b[0m\u001b[1;36m1\u001b[0m\u001b[1;33m,\u001b[0m \u001b[1;36m1\u001b[0m\u001b[1;33m,\u001b[0m \u001b[1;33m-\u001b[0m\u001b[1;36m1\u001b[0m\u001b[1;33m,\u001b[0m \u001b[1;36m1\u001b[0m\u001b[1;33m,\u001b[0m \u001b[1;33m-\u001b[0m\u001b[1;36m1\u001b[0m\u001b[1;33m,\u001b[0m \u001b[1;33m-\u001b[0m\u001b[1;36m1\u001b[0m\u001b[1;33m,\u001b[0m \u001b[1;36m1\u001b[0m\u001b[1;33m,\u001b[0m \u001b[1;33m-\u001b[0m\u001b[1;36m1\u001b[0m\u001b[1;33m,\u001b[0m \u001b[1;36m1\u001b[0m\u001b[1;33m,\u001b[0m \u001b[1;33m-\u001b[0m\u001b[1;36m1\u001b[0m\u001b[1;33m,\u001b[0m \u001b[1;36m1\u001b[0m\u001b[1;33m,\u001b[0m \u001b[1;36m1\u001b[0m\u001b[1;33m,\u001b[0m \u001b[1;33m-\u001b[0m\u001b[1;36m1\u001b[0m\u001b[1;33m,\u001b[0m \u001b[1;36m1\u001b[0m\u001b[1;33m,\u001b[0m \u001b[1;36m1\u001b[0m\u001b[1;33m,\u001b[0m \u001b[1;33m-\u001b[0m\u001b[1;36m1\u001b[0m\u001b[1;33m,\u001b[0m \u001b[1;36m1\u001b[0m\u001b[1;33m,\u001b[0m \u001b[1;36m1\u001b[0m\u001b[1;33m,\u001b[0m \u001b[1;33m-\u001b[0m\u001b[1;36m1\u001b[0m\u001b[1;33m,\u001b[0m \u001b[1;36m1\u001b[0m\u001b[1;33m,\u001b[0m \u001b[1;33m-\u001b[0m\u001b[1;36m1\u001b[0m\u001b[1;33m,\u001b[0m \u001b[1;36m1\u001b[0m\u001b[1;33m]\u001b[0m\u001b[1;33m)\u001b[0m\u001b[1;33m\u001b[0m\u001b[0m\n\u001b[0;32m     12\u001b[0m \u001b[1;32mfor\u001b[0m \u001b[0mbeta\u001b[0m \u001b[1;32min\u001b[0m \u001b[0mnp\u001b[0m\u001b[1;33m.\u001b[0m\u001b[0marange\u001b[0m\u001b[1;33m(\u001b[0m\u001b[0mbetaB\u001b[0m\u001b[1;33m,\u001b[0m \u001b[0mbetaE\u001b[0m\u001b[1;33m,\u001b[0m\u001b[0minterval\u001b[0m\u001b[1;33m)\u001b[0m\u001b[1;33m:\u001b[0m\u001b[1;33m\u001b[0m\u001b[0m\n\u001b[1;32m---> 13\u001b[1;33m     \u001b[0mspin_array\u001b[0m \u001b[1;33m=\u001b[0m \u001b[0mIsingMC\u001b[0m\u001b[1;33m(\u001b[0m\u001b[0mbeta\u001b[0m\u001b[1;33m,\u001b[0m\u001b[0mspin_array\u001b[0m\u001b[1;33m)\u001b[0m\u001b[1;33m\u001b[0m\u001b[0m\n\u001b[0m\u001b[0;32m     14\u001b[0m \u001b[1;31m#plt.figure(1)\u001b[0m\u001b[1;33m\u001b[0m\u001b[1;33m\u001b[0m\u001b[0m\n\u001b[0;32m     15\u001b[0m \u001b[1;31m#plt.plot(x,y1)\u001b[0m\u001b[1;33m\u001b[0m\u001b[1;33m\u001b[0m\u001b[0m\n",
      "\u001b[1;32m<ipython-input-57-862c0d947089>\u001b[0m in \u001b[0;36mIsingMC\u001b[1;34m(beta, spin_array)\u001b[0m\n\u001b[0;32m     35\u001b[0m     \u001b[1;32mfor\u001b[0m \u001b[0msweep\u001b[0m \u001b[1;32min\u001b[0m \u001b[0mrange\u001b[0m\u001b[1;33m(\u001b[0m\u001b[0msweeps\u001b[0m\u001b[1;33m)\u001b[0m\u001b[1;33m:\u001b[0m\u001b[1;33m\u001b[0m\u001b[0m\n\u001b[0;32m     36\u001b[0m         \u001b[1;32mfor\u001b[0m \u001b[0mi\u001b[0m \u001b[1;32min\u001b[0m \u001b[0mrange\u001b[0m\u001b[1;33m(\u001b[0m\u001b[1;36m60\u001b[0m\u001b[1;33m)\u001b[0m\u001b[1;33m:\u001b[0m\u001b[1;33m\u001b[0m\u001b[0m\n\u001b[1;32m---> 37\u001b[1;33m             \u001b[0me\u001b[0m \u001b[1;33m=\u001b[0m \u001b[0menergy\u001b[0m\u001b[1;33m(\u001b[0m\u001b[0mspin_array\u001b[0m\u001b[1;33m,\u001b[0m \u001b[0mi\u001b[0m\u001b[1;33m)\u001b[0m\u001b[1;33m\u001b[0m\u001b[0m\n\u001b[0m\u001b[0;32m     38\u001b[0m             \u001b[1;32mif\u001b[0m \u001b[0me\u001b[0m \u001b[1;33m<=\u001b[0m \u001b[1;36m0\u001b[0m\u001b[1;33m:\u001b[0m\u001b[1;33m\u001b[0m\u001b[0m\n\u001b[0;32m     39\u001b[0m                 \u001b[0mspin_array\u001b[0m\u001b[1;33m[\u001b[0m\u001b[0mi\u001b[0m\u001b[1;33m]\u001b[0m \u001b[1;33m*=\u001b[0m \u001b[1;33m-\u001b[0m\u001b[1;36m1\u001b[0m\u001b[1;33m\u001b[0m\u001b[0m\n",
      "\u001b[1;32m<ipython-input-57-862c0d947089>\u001b[0m in \u001b[0;36menergy\u001b[1;34m(array, i)\u001b[0m\n\u001b[0;32m     14\u001b[0m \u001b[1;33m\u001b[0m\u001b[0m\n\u001b[0;32m     15\u001b[0m \u001b[1;32mdef\u001b[0m \u001b[0menergy\u001b[0m\u001b[1;33m(\u001b[0m\u001b[0marray\u001b[0m\u001b[1;33m,\u001b[0m \u001b[0mi\u001b[0m\u001b[1;33m)\u001b[0m\u001b[1;33m:\u001b[0m\u001b[1;33m\u001b[0m\u001b[0m\n\u001b[1;32m---> 16\u001b[1;33m     \u001b[1;32mreturn\u001b[0m \u001b[1;36m2\u001b[0m \u001b[1;33m*\u001b[0m \u001b[0marray\u001b[0m\u001b[1;33m[\u001b[0m\u001b[0mi\u001b[0m\u001b[1;33m]\u001b[0m \u001b[1;33m*\u001b[0m \u001b[0mnp\u001b[0m\u001b[1;33m.\u001b[0m\u001b[0msum\u001b[0m\u001b[1;33m(\u001b[0m\u001b[0mfind_neighbors\u001b[0m\u001b[1;33m(\u001b[0m\u001b[0marray\u001b[0m\u001b[1;33m,\u001b[0m \u001b[0mi\u001b[0m\u001b[1;33m)\u001b[0m\u001b[1;33m)\u001b[0m\u001b[1;33m\u001b[0m\u001b[0m\n\u001b[0m\u001b[0;32m     17\u001b[0m \u001b[1;33m\u001b[0m\u001b[0m\n\u001b[0;32m     18\u001b[0m \u001b[1;32mdef\u001b[0m \u001b[0mTotal_energy\u001b[0m\u001b[1;33m(\u001b[0m\u001b[0marray\u001b[0m\u001b[1;33m)\u001b[0m\u001b[1;33m:\u001b[0m\u001b[1;33m\u001b[0m\u001b[0m\n",
      "\u001b[1;32mD:\\Anaconda3\\lib\\site-packages\\numpy\\core\\fromnumeric.py\u001b[0m in \u001b[0;36msum\u001b[1;34m(a, axis, dtype, out, keepdims)\u001b[0m\n\u001b[0;32m   1812\u001b[0m             \u001b[1;32mreturn\u001b[0m \u001b[0msum\u001b[0m\u001b[1;33m(\u001b[0m\u001b[0maxis\u001b[0m\u001b[1;33m=\u001b[0m\u001b[0maxis\u001b[0m\u001b[1;33m,\u001b[0m \u001b[0mdtype\u001b[0m\u001b[1;33m=\u001b[0m\u001b[0mdtype\u001b[0m\u001b[1;33m,\u001b[0m \u001b[0mout\u001b[0m\u001b[1;33m=\u001b[0m\u001b[0mout\u001b[0m\u001b[1;33m,\u001b[0m \u001b[1;33m**\u001b[0m\u001b[0mkwargs\u001b[0m\u001b[1;33m)\u001b[0m\u001b[1;33m\u001b[0m\u001b[0m\n\u001b[0;32m   1813\u001b[0m     return _methods._sum(a, axis=axis, dtype=dtype,\n\u001b[1;32m-> 1814\u001b[1;33m                          out=out, **kwargs)\n\u001b[0m\u001b[0;32m   1815\u001b[0m \u001b[1;33m\u001b[0m\u001b[0m\n\u001b[0;32m   1816\u001b[0m \u001b[1;33m\u001b[0m\u001b[0m\n",
      "\u001b[1;31mKeyboardInterrupt\u001b[0m: "
     ]
    }
   ],
   "source": [
    "RELAX_SWEEPS = 10000\n",
    "sweeps = 10000\n",
    "betaB = 1\n",
    "betaE = 5\n",
    "interval = 0.1 \n",
    "x =[]\n",
    "#y1 =[]\n",
    "y2 = []\n",
    "timex=time.time()\n",
    "spin_array = np.array([1, -1, 1, -1, 1, 1, -1, 1, 1, -1, -1, -1, 1, -1, 1, 1, -1, 1, 1, 1, \\\n",
    "-1, -1, 1, -1, 1, -1, 1, 1, 1, 1, -1, -1, -1, 1, -1, -1, 1, -1, -1, \\\n",
    "1, -1, 1, -1, -1, 1, -1, 1, -1, 1, 1, -1, 1, 1, -1, 1, 1, -1, 1, -1, \\\n",
    "1])\n",
    "for beta in np.arange(betaB, betaE,interval):\n",
    "    spin_array = IsingMC(beta,spin_array)\n",
    "#plt.figure(1)\n",
    "#plt.plot(x,y1)\n",
    "plt.figure(2)\n",
    "plt.plot(x,y2)\n",
    "plt.show()\n",
    "print (time.time()-timex)"
   ]
  }
 ],
 "metadata": {
  "kernelspec": {
   "display_name": "Python 3",
   "language": "python",
   "name": "python3"
  },
  "language_info": {
   "codemirror_mode": {
    "name": "ipython",
    "version": 3
   },
   "file_extension": ".py",
   "mimetype": "text/x-python",
   "name": "python",
   "nbconvert_exporter": "python",
   "pygments_lexer": "ipython3",
   "version": "3.6.6"
  }
 },
 "nbformat": 4,
 "nbformat_minor": 2
}
